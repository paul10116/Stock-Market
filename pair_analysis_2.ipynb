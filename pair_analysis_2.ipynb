{
 "cells": [
  {
   "cell_type": "code",
   "execution_count": 446,
   "metadata": {},
   "outputs": [],
   "source": [
    "import pandas as pd\n",
    "import numpy as np\n",
    "import matplotlib.pyplot as plt\n",
    "from datetime import datetime\n",
    "import seaborn as sns\n",
    "import yfinance as yf\n",
    "from yahoofinancials import YahooFinancials as yfs\n",
    "\n",
    "%matplotlib widget\n",
    "sns.set_style(\"darkgrid\")\n",
    "sns.set(font_scale=1.7) "
   ]
  },
  {
   "cell_type": "code",
   "execution_count": null,
   "metadata": {},
   "outputs": [],
   "source": [
    "buy_ticker = \"VLY\"\n",
    "sell_ticker = \"TGNA\"\n",
    "beta_ticker = yf.Ticker(\"SPY\")\n",
    "\n",
    "ticker1 = yf.Ticker(buy_ticker)\n",
    "ticker2 = yf.Ticker(sell_ticker)\n",
    "dataFrame1 = ticker1.history(\n",
    "    start='2010-1-1', actions=True, rounding=True)\n",
    "dataFrame2 = ticker2.history(\n",
    "    start='2010-1-1', actions=True, rounding=True)\n",
    "spy = beta_ticker.history(\n",
    "    start='2010-1-1', actions=True, rounding=True)\n",
    "\n",
    "ratio = dataFrame1.Close / dataFrame2.Close\n",
    "spread = dataFrame1.Close - dataFrame2.Close"
   ]
  },
  {
   "cell_type": "code",
   "execution_count": null,
   "metadata": {},
   "outputs": [],
   "source": [
    "# Long ticker:\n",
    "long_p_e = np.round(yfs(buy_ticker).get_pe_ratio(), 2)\n",
    "long_div = np.round(yfs(buy_ticker).get_dividend_yield(), 2)\n",
    "\n",
    "spy_ticker1 = pd.concat(\n",
    "    [spy.Close[-500::], dataFrame1.Close[-500::]], axis=1)\n",
    "spy_ticker1.columns = [\"SPY\", buy_ticker]\n",
    "long_data_pct = np.log(spy_ticker1/spy_ticker1.shift())\n",
    "ticker1_cov = long_data_pct.cov().iloc[0, 1]\n",
    "ticker1_var = long_data_pct[\"SPY\"].var()\n",
    "long_beta = np.round(ticker1_cov/ticker1_var, 2)\n",
    "\n",
    "# Short ticker:\n",
    "short_p_e = np.round(yfs(sell_ticker).get_pe_ratio(), 2)\n",
    "short_div = np.round(yfs(sell_ticker).get_dividend_yield(), 2)\n",
    "\n",
    "spy_ticker2 = pd.concat(\n",
    "    [spy.Close[-500::], dataFrame2.Close[-500::]], axis=1)\n",
    "spy_ticker2.columns = [\"SPY\", sell_ticker]\n",
    "short_data_pct = np.log(spy_ticker2/spy_ticker2.shift())\n",
    "ticker2_cov = short_data_pct.cov().iloc[0, 1]\n",
    "ticker2_var = short_data_pct[\"SPY\"].var()\n",
    "short_beta = np.round(ticker2_cov/ticker2_var, 2)"
   ]
  },
  {
   "cell_type": "code",
   "execution_count": null,
   "metadata": {},
   "outputs": [],
   "source": [
    "chart = fig, axes = plt.subplots(3, figsize=(18, 12))\n",
    "axes[0].set_title(\n",
    "    f\"{buy_ticker} pos.: Beta {long_beta}, P/E: {long_p_e}, Div.: {long_div} /// {sell_ticker} pos.: Beta {short_beta}, P/E: {short_p_e}, Div.: {short_div}\")\n",
    "sns.lineplot(data=dataFrame1, x=\"Date\", y=\"Close\",\n",
    "             ax=axes[0], label=buy_ticker)\n",
    "sns.lineplot(data=dataFrame2, x=\"Date\", y=\"Close\",\n",
    "             ax=axes[0], label=sell_ticker)\n",
    "axes[1].set_title(f\"Ratio {buy_ticker} / {sell_ticker}\")\n",
    "sns.lineplot(data=ratio, ax=axes[1])\n",
    "axes[2].set_title(f\"Spread {buy_ticker} / {sell_ticker}\")\n",
    "sns.lineplot(data=spread, ax=axes[2])\n",
    "plt.tight_layout(pad=1)"
   ]
  }
 ],
 "metadata": {
  "kernelspec": {
   "display_name": "Python 3.10.8 ('.venv': venv)",
   "language": "python",
   "name": "python3"
  },
  "language_info": {
   "codemirror_mode": {
    "name": "ipython",
    "version": 3
   },
   "file_extension": ".py",
   "mimetype": "text/x-python",
   "name": "python",
   "nbconvert_exporter": "python",
   "pygments_lexer": "ipython3",
   "version": "3.10.8"
  },
  "orig_nbformat": 4,
  "vscode": {
   "interpreter": {
    "hash": "26606c0de773fc6158503fc9f78b552a6f1d87962ab0f563445360ff735daea1"
   }
  }
 },
 "nbformat": 4,
 "nbformat_minor": 2
}
