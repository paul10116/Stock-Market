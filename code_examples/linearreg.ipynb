{
 "cells": [
  {
   "cell_type": "code",
   "execution_count": 2,
   "metadata": {},
   "outputs": [],
   "source": [
    "import pandas as pd\n",
    "import numpy as np\n",
    "import matplotlib.pyplot as plt\n",
    "from sklearn import linear_model\n",
    "import datetime as dt\n",
    "import yfinance as yf\n",
    "# %matplotlib widget\n"
   ]
  },
  {
   "cell_type": "markdown",
   "metadata": {},
   "source": [
    "BETA = covariance / variance"
   ]
  },
  {
   "cell_type": "code",
   "execution_count": 3,
   "metadata": {},
   "outputs": [],
   "source": [
    "start = dt.datetime(2020, 10, 20)\n",
    "\n",
    "simbol1 = \"SPY\"\n",
    "simbol2 = \"COF\"\n",
    "ticker1 = yf.Ticker(simbol1)\n",
    "ticker2 = yf.Ticker(simbol2)\n",
    "stock_data1 = ticker1.history(start=start, actions=False, rounding=True)\n",
    "stock_data2 = ticker2.history(start=start, actions=False, rounding=True)"
   ]
  },
  {
   "cell_type": "code",
   "execution_count": 4,
   "metadata": {},
   "outputs": [],
   "source": [
    "stock_data = pd.concat([stock_data1.Close, stock_data2.Close], axis=1)"
   ]
  },
  {
   "cell_type": "code",
   "execution_count": 5,
   "metadata": {},
   "outputs": [],
   "source": [
    "stock_data.columns = [simbol1,simbol2]"
   ]
  },
  {
   "cell_type": "code",
   "execution_count": 6,
   "metadata": {},
   "outputs": [
    {
     "data": {
      "text/html": [
       "<div>\n",
       "<style scoped>\n",
       "    .dataframe tbody tr th:only-of-type {\n",
       "        vertical-align: middle;\n",
       "    }\n",
       "\n",
       "    .dataframe tbody tr th {\n",
       "        vertical-align: top;\n",
       "    }\n",
       "\n",
       "    .dataframe thead th {\n",
       "        text-align: right;\n",
       "    }\n",
       "</style>\n",
       "<table border=\"1\" class=\"dataframe\">\n",
       "  <thead>\n",
       "    <tr style=\"text-align: right;\">\n",
       "      <th></th>\n",
       "      <th>SPY</th>\n",
       "      <th>COF</th>\n",
       "    </tr>\n",
       "    <tr>\n",
       "      <th>Date</th>\n",
       "      <th></th>\n",
       "      <th></th>\n",
       "    </tr>\n",
       "  </thead>\n",
       "  <tbody>\n",
       "    <tr>\n",
       "      <th>2020-10-20 00:00:00-04:00</th>\n",
       "      <td>327.07</td>\n",
       "      <td>72.62</td>\n",
       "    </tr>\n",
       "    <tr>\n",
       "      <th>2020-10-21 00:00:00-04:00</th>\n",
       "      <td>326.45</td>\n",
       "      <td>69.29</td>\n",
       "    </tr>\n",
       "    <tr>\n",
       "      <th>2020-10-22 00:00:00-04:00</th>\n",
       "      <td>328.24</td>\n",
       "      <td>72.14</td>\n",
       "    </tr>\n",
       "    <tr>\n",
       "      <th>2020-10-23 00:00:00-04:00</th>\n",
       "      <td>329.35</td>\n",
       "      <td>73.30</td>\n",
       "    </tr>\n",
       "    <tr>\n",
       "      <th>2020-10-26 00:00:00-04:00</th>\n",
       "      <td>323.27</td>\n",
       "      <td>70.44</td>\n",
       "    </tr>\n",
       "    <tr>\n",
       "      <th>...</th>\n",
       "      <td>...</td>\n",
       "      <td>...</td>\n",
       "    </tr>\n",
       "    <tr>\n",
       "      <th>2023-12-29 00:00:00-05:00</th>\n",
       "      <td>475.31</td>\n",
       "      <td>131.12</td>\n",
       "    </tr>\n",
       "    <tr>\n",
       "      <th>2024-01-02 00:00:00-05:00</th>\n",
       "      <td>472.65</td>\n",
       "      <td>132.11</td>\n",
       "    </tr>\n",
       "    <tr>\n",
       "      <th>2024-01-03 00:00:00-05:00</th>\n",
       "      <td>468.79</td>\n",
       "      <td>130.72</td>\n",
       "    </tr>\n",
       "    <tr>\n",
       "      <th>2024-01-04 00:00:00-05:00</th>\n",
       "      <td>467.28</td>\n",
       "      <td>129.77</td>\n",
       "    </tr>\n",
       "    <tr>\n",
       "      <th>2024-01-05 00:00:00-05:00</th>\n",
       "      <td>467.46</td>\n",
       "      <td>129.38</td>\n",
       "    </tr>\n",
       "  </tbody>\n",
       "</table>\n",
       "<p>808 rows × 2 columns</p>\n",
       "</div>"
      ],
      "text/plain": [
       "                              SPY     COF\n",
       "Date                                     \n",
       "2020-10-20 00:00:00-04:00  327.07   72.62\n",
       "2020-10-21 00:00:00-04:00  326.45   69.29\n",
       "2020-10-22 00:00:00-04:00  328.24   72.14\n",
       "2020-10-23 00:00:00-04:00  329.35   73.30\n",
       "2020-10-26 00:00:00-04:00  323.27   70.44\n",
       "...                           ...     ...\n",
       "2023-12-29 00:00:00-05:00  475.31  131.12\n",
       "2024-01-02 00:00:00-05:00  472.65  132.11\n",
       "2024-01-03 00:00:00-05:00  468.79  130.72\n",
       "2024-01-04 00:00:00-05:00  467.28  129.77\n",
       "2024-01-05 00:00:00-05:00  467.46  129.38\n",
       "\n",
       "[808 rows x 2 columns]"
      ]
     },
     "execution_count": 6,
     "metadata": {},
     "output_type": "execute_result"
    }
   ],
   "source": [
    "stock_data"
   ]
  },
  {
   "cell_type": "code",
   "execution_count": 7,
   "metadata": {},
   "outputs": [],
   "source": [
    "close_data_pct = np.log(stock_data/stock_data.shift())"
   ]
  },
  {
   "cell_type": "code",
   "execution_count": 8,
   "metadata": {},
   "outputs": [
    {
     "data": {
      "text/html": [
       "<div>\n",
       "<style scoped>\n",
       "    .dataframe tbody tr th:only-of-type {\n",
       "        vertical-align: middle;\n",
       "    }\n",
       "\n",
       "    .dataframe tbody tr th {\n",
       "        vertical-align: top;\n",
       "    }\n",
       "\n",
       "    .dataframe thead th {\n",
       "        text-align: right;\n",
       "    }\n",
       "</style>\n",
       "<table border=\"1\" class=\"dataframe\">\n",
       "  <thead>\n",
       "    <tr style=\"text-align: right;\">\n",
       "      <th></th>\n",
       "      <th>SPY</th>\n",
       "      <th>COF</th>\n",
       "    </tr>\n",
       "    <tr>\n",
       "      <th>Date</th>\n",
       "      <th></th>\n",
       "      <th></th>\n",
       "    </tr>\n",
       "  </thead>\n",
       "  <tbody>\n",
       "    <tr>\n",
       "      <th>2020-10-20 00:00:00-04:00</th>\n",
       "      <td>NaN</td>\n",
       "      <td>NaN</td>\n",
       "    </tr>\n",
       "    <tr>\n",
       "      <th>2020-10-21 00:00:00-04:00</th>\n",
       "      <td>-0.001897</td>\n",
       "      <td>-0.046940</td>\n",
       "    </tr>\n",
       "    <tr>\n",
       "      <th>2020-10-22 00:00:00-04:00</th>\n",
       "      <td>0.005468</td>\n",
       "      <td>0.040308</td>\n",
       "    </tr>\n",
       "    <tr>\n",
       "      <th>2020-10-23 00:00:00-04:00</th>\n",
       "      <td>0.003376</td>\n",
       "      <td>0.015952</td>\n",
       "    </tr>\n",
       "    <tr>\n",
       "      <th>2020-10-26 00:00:00-04:00</th>\n",
       "      <td>-0.018633</td>\n",
       "      <td>-0.039799</td>\n",
       "    </tr>\n",
       "  </tbody>\n",
       "</table>\n",
       "</div>"
      ],
      "text/plain": [
       "                                SPY       COF\n",
       "Date                                         \n",
       "2020-10-20 00:00:00-04:00       NaN       NaN\n",
       "2020-10-21 00:00:00-04:00 -0.001897 -0.046940\n",
       "2020-10-22 00:00:00-04:00  0.005468  0.040308\n",
       "2020-10-23 00:00:00-04:00  0.003376  0.015952\n",
       "2020-10-26 00:00:00-04:00 -0.018633 -0.039799"
      ]
     },
     "execution_count": 8,
     "metadata": {},
     "output_type": "execute_result"
    }
   ],
   "source": [
    "close_data_pct.head()"
   ]
  },
  {
   "cell_type": "code",
   "execution_count": 9,
   "metadata": {},
   "outputs": [
    {
     "data": {
      "text/plain": [
       "0.00015869666905007077"
      ]
     },
     "execution_count": 9,
     "metadata": {},
     "output_type": "execute_result"
    }
   ],
   "source": [
    "covariance = close_data_pct.cov().iloc[0,1]\n",
    "covariance"
   ]
  },
  {
   "cell_type": "code",
   "execution_count": 10,
   "metadata": {},
   "outputs": [
    {
     "data": {
      "text/plain": [
       "0.00012116705282134718"
      ]
     },
     "execution_count": 10,
     "metadata": {},
     "output_type": "execute_result"
    }
   ],
   "source": [
    "variance = close_data_pct[\"SPY\"].var()\n",
    "variance"
   ]
  },
  {
   "cell_type": "code",
   "execution_count": 11,
   "metadata": {},
   "outputs": [
    {
     "data": {
      "text/plain": [
       "1.3097344975787975"
      ]
     },
     "execution_count": 11,
     "metadata": {},
     "output_type": "execute_result"
    }
   ],
   "source": [
    "BETA = covariance/variance\n",
    "BETA"
   ]
  },
  {
   "cell_type": "code",
   "execution_count": 12,
   "metadata": {},
   "outputs": [
    {
     "data": {
      "image/png": "[encoded data removed]",
      "text/plain": [
       "<Figure size 640x480 with 1 Axes>"
      ]
     },
     "metadata": {},
     "output_type": "display_data"
    }
   ],
   "source": [
    "fig1, ax1 = plt.subplots()\n",
    "ax1.scatter(close_data_pct.SPY, close_data_pct.COF);"
   ]
  },
  {
   "cell_type": "markdown",
   "metadata": {},
   "source": [
    "Linear regression:"
   ]
  },
  {
   "cell_type": "code",
   "execution_count": 13,
   "metadata": {},
   "outputs": [
    {
     "data": {
      "text/plain": [
       "array([[1.3097345]])"
      ]
     },
     "execution_count": 13,
     "metadata": {},
     "output_type": "execute_result"
    }
   ],
   "source": [
    "X = close_data_pct['SPY'].iloc[1:].values.reshape(-1,1)\n",
    "Y = close_data_pct['COF'].iloc[1:].values.reshape(-1,1)\n",
    "\n",
    "regression = linear_model.LinearRegression()\n",
    "regression.fit(X,Y)\n",
    "regression.coef_\n",
    "# regression coeficient value is the same as beta value"
   ]
  },
  {
   "cell_type": "code",
   "execution_count": null,
   "metadata": {},
   "outputs": [],
   "source": []
  }
 ],
 "metadata": {
  "kernelspec": {
   "display_name": "Python 3.10.8 ('.venv': venv)",
   "language": "python",
   "name": "python3"
  },
  "language_info": {
   "codemirror_mode": {
    "name": "ipython",
    "version": 3
   },
   "file_extension": ".py",
   "mimetype": "text/x-python",
   "name": "python",
   "nbconvert_exporter": "python",
   "pygments_lexer": "ipython3",
   "version": "3.12.1"
  },
  "orig_nbformat": 4,
  "vscode": {
   "interpreter": {
    "hash": "26606c0de773fc6158503fc9f78b552a6f1d87962ab0f563445360ff735daea1"
   }
  }
 },
 "nbformat": 4,
 "nbformat_minor": 2
}
