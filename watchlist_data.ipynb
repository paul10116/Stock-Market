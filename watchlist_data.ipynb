{
 "cells": [
  {
   "cell_type": "code",
   "execution_count": 1,
   "metadata": {},
   "outputs": [],
   "source": [
    "import pandas as pd\n",
    "import sqlalchemy\n",
    "from components.indicators import beta, EMA\n",
    "\n",
    "engine = sqlalchemy.create_engine('sqlite:///stock_etf.db')\n",
    "data = pd.read_sql_query(\"SELECT * FROM stockData\", engine, parse_dates=\"Date\")"
   ]
  },
  {
   "cell_type": "code",
   "execution_count": 10,
   "metadata": {},
   "outputs": [],
   "source": [
    "any_pairs = '''APH/AX BYD/AX BRO/HOG VSH/ABCB AGRO/ADEA BYD/ACIW AFL/JNPR BKR/ACIW ZTO/ACIW VSH/AGNC HAS/BXP HAS/COLB \n",
    "BWA/LAZ NEO/AB SKT/M PAYX/EXR NS/ENV HP/SPR UAL/SLG FORM/SLG USAC/AMKR CF/BHP AU/CX BHP/NEM CENX/MT CF/EMN CLF/AGI \n",
    "CMC/X CSTM/CENX FMC/AEM FMC/EMN FNV/CE FNV/RIO FNV/RPM AA/GPRE HBM/CX HUN/CENX SAVE/AGI AAP/ST SNY/AMKR RTO/AMKR \n",
    "VICI/AMKR YUMC/AX SLB/AY ZTO/AY CAH/AYX HAL/AYX CCI/AZTA HSY/AZTA KMX/AZTA NKE/AZTA RVTY/AZTA GIS/BJ MDLZ/BJ\n",
    "YUMC/BTU WPM/BTU BCE/CLF BMY/CLF RMD/COHR DINO/CRNX RMD/CRSP AEE/CRUS CRUS/AMGN CRUS/FDX BMY/CUBE\n",
    "'''"
   ]
  },
  {
   "cell_type": "code",
   "execution_count": 14,
   "metadata": {},
   "outputs": [],
   "source": [
    "positive_statistics = '''AB/INCY AB/WPM ACHC/NTR AX/USFD AXNX/ROST AXNX/SNY AXNX/UBS AZTA/AOS AZTA/ATO AZTA/AZN \n",
    "AZTA/BABA AZTA/BCE AZTA/BG AZTA/BUD AZTA/CAG AZTA/CCEP AZTA/PPG BL/AEE BL/BMY BL/CMCSA BL/GMAB BL/XEL \n",
    "BLMN/DVN BRKR/AKAM BRKR/NRG BTU/HRL CARG/DAL CGNX/ZTO CIEN/BAX CIEN/DLTR CIEN/UHS CIEN/WPM CLF/GLPI CLF/IBN CLF/NGG\n",
    "CMC/ES CMC/ETR CMC/EVRG CMC/FE CMC/NRG CMC/OMC CMC/RVTY CMC/WAB CROX/AWK CROX/BR CROX/BX CROX/EFX CROX/FDX CROX/LH\n",
    "CRSP/FDX CRUS/BAX CRUS/BHP CRUS/PRU CVNA/TROW\n",
    "'''"
   ]
  },
  {
   "cell_type": "code",
   "execution_count": 15,
   "metadata": {},
   "outputs": [],
   "source": [
    "dividend_positive = '''AEP/AKAM AEP/CHKP AEP/CNC ADM/CRUS APD/CRUS AEP/FLT AEP/FSLR AEP/VRSN ARCC/MGM ARCC/SQ \n",
    "ARCC/ZG BBY/AKAM BBY/ALNY BBY/EXAS BBY/FSLR BBY/KEYS BBY/MNST BMO/FSLR BMO/INCY BMO/PSTG BMO/SPLK BNS/HSIC \n",
    "BNS/MNST CCI/AKAM CCI/AZTA CCI/ALNY CCI/BMRN CCI/TTWO CCI/VRSN CCI/EXAS CM/DXCM CM/MNST CM/PSTG CM/PYPL CME/ADSK \n",
    "CME/ALNY CME/ANSS CME/BIIB CME/CHKP CME/DXCM CME/FFIV CME/FIVE CME/FLT CME/FSLR CME/ILMN CME/PTC CME/PODD \n",
    "CNQ/DXCM CNQ/FIVE CNQ/HSIC CNQ/INCY CNQ/KEYS CNQ/MGM CNQ/MRNA CNQ/PODD CPT/BIDU CPT/BIIB CPT/FSLR CPT/EXAS \n",
    "CPT/DXCM CPT/VRSN DUK/AKAM DUK/ALNY DUK/CHKP DUK/MNST DUK/PDD DUK/SQ DUK/PYPL DUK/VRSN EIX/PSTG EIX/FIVE \n",
    "EIX/GMAB EPD/DOCU EPD/HSIC EPD/INCY EPD/MGM EQR/CHKP EQR/FFIV EQR/FWONK EQR/GMAB EQR/KEYS EQR/MNST EQR/PODD \n",
    "EQR/SPLK ES/AKAM ES/BIDU ES/CHKP ES/FFIV ESS/ANSS ESS/BIIB ESS/EXPE ESS/FLT ESS/FSLR ESS/NBIX ESS/VRSN \n",
    "EVRG/AKAM EVRG/KEYS EXC/DXCM EXC/GMAB EXC/INCY EXC/MGM EXC/PSTG EXR/BIIB EXR/FSLR EXR/KEYS FANG/CBRE \n",
    "FANG/CNC FANG/DLTR FANG/FIVE FANG/HSIC FANG/INCY FANG/WAT FE/HSIC FE/MNST FTS/MNST IPG/PSTG K/HSIC\n",
    "KMB/AKAM KMB/CHKP KMB/DXCM KMB/FSLR KMB/KEYS LAMR/AKAM LAMR/KEYS LYB/CHKP MAA/ALNY MAA/FSLR MPLX/MGM\n",
    "MPLX/PFGC MPLX/PSTG MS/AKAM OKE/HSIC OKE/INCY PNC/CHKP PNC/EXPE PNC/FLT PNC/TTWO PNC/ZG PRU/ANSS PRU/AER\n",
    "PRU/DXCM PRU/EXPE PSA/ALNY PSA/BIIB PSA/FSLR RF/MGM RF/MNST RF/PSTG RIO/AKAM RIO/ALNY RY/AKAM RY/CHKP \n",
    "RY/FSLR RY/KEYS RY/PSTG SLF/DXCM SLF/EXAS SLF/FSLR SLF/FTNT SLF/FWONK SLF/MNST SLF/PSTG SO/MNST SPG/HOLX\n",
    "STLA/GMAB STLA/INCY STLA/KMX SU/INCY TAK/CCL TD/MGM TD/EXPE TROW/AKAM TROW/ALNY TROW/FSLR TROW/HSIC \n",
    "TROW/KMX TROW/LYV TROW/SPLK TRP/BMRN USB/EXPE VZ/PYPL '''"
   ]
  },
  {
   "cell_type": "code",
   "execution_count": 5,
   "metadata": {},
   "outputs": [],
   "source": [
    "def ratios(pairs: str):\n",
    "    pair_list = pairs.split()\n",
    "    ratios = pd.DataFrame()\n",
    "    for pair in pair_list:\n",
    "        stock = pair.split('/')\n",
    "        ratio = pd.DataFrame({\n",
    "            f'{stock[0]}/{stock[1]}': data[f'{stock[0]}'] / data[f'{stock[1]}']\n",
    "        })\n",
    "        ratios = pd.concat([ratios, ratio], axis=1)\n",
    "    return ratios"
   ]
  },
  {
   "cell_type": "code",
   "execution_count": 16,
   "metadata": {},
   "outputs": [],
   "source": [
    "any_pair_ratios = ratios(any_pairs)\n",
    "positive_statistics_ratios = ratios(positive_statistics)\n",
    "dividend_positive_ratios = ratios(dividend_positive)"
   ]
  },
  {
   "cell_type": "code",
   "execution_count": 6,
   "metadata": {},
   "outputs": [],
   "source": [
    "def ratio_beta(pairs: str):\n",
    "    pair_list = pairs.split()\n",
    "    betas = pd.DataFrame()\n",
    "    \n",
    "    for pair in pair_list:\n",
    "        stock = pair.split('/')\n",
    "        long_beta = beta(data[f'{stock[0]}'], f'{stock[0]}').round(2)\n",
    "        short_beta = beta(data[f'{stock[1]}'], f'{stock[1]}').round(2)\n",
    "        \n",
    "        beta_value = long_beta / short_beta\n",
    "        \n",
    "        beta_ratio = pd.DataFrame({\n",
    "            f'{stock[0]}/{stock[1]}': beta_value.round(2)\n",
    "        }, index=[0])\n",
    "        betas = pd.concat([betas, beta_ratio], axis=1)\n",
    "    return betas"
   ]
  },
  {
   "cell_type": "code",
   "execution_count": 17,
   "metadata": {},
   "outputs": [],
   "source": [
    "any_pair_beta = ratio_beta(any_pairs)\n",
    "positive_statistics_beta = ratio_beta(positive_statistics)\n",
    "dividend_positive_beta = ratio_beta(dividend_positive)"
   ]
  },
  {
   "cell_type": "code",
   "execution_count": 7,
   "metadata": {},
   "outputs": [],
   "source": [
    "def pct_returns(given_df: pd.DataFrame):\n",
    "    c_c_returns = ((given_df - given_df.shift(1)) / given_df.shift(1))*100\n",
    "    return c_c_returns"
   ]
  },
  {
   "cell_type": "code",
   "execution_count": 18,
   "metadata": {},
   "outputs": [],
   "source": [
    "any_pair_cc_returns = pct_returns(any_pair_ratios)\n",
    "positive_statistics_cc_returns = pct_returns(positive_statistics_ratios)\n",
    "dividend_positive_cc_returns = pct_returns(dividend_positive_ratios)"
   ]
  },
  {
   "cell_type": "code",
   "execution_count": 32,
   "metadata": {},
   "outputs": [],
   "source": [
    "def watchlist(pairs: str, c_c_returns: pd.DataFrame, ratios: pd.DataFrame, ratio_beta: pd.DataFrame):\n",
    "    pair_list = pairs.split()\n",
    "    descriptive_statistics = pd.DataFrame()\n",
    "    \n",
    "    for pair in pair_list:\n",
    "        stock = pair.split('/')\n",
    "        \n",
    "        pair_statistics = pd.DataFrame({\n",
    "            pair: {\n",
    "                'Long': stock[0],\n",
    "                'Short': stock[1],\n",
    "                'Beta': ratio_beta[pair].iloc[-1].round(2),\n",
    "                'Ratio': ratios[pair].iloc[-1].round(2),\n",
    "                'EMA20': EMA(ratios[pair], 20).iloc[-1].round(2),\n",
    "                'EMA60': EMA(ratios[pair], 60).iloc[-1].round(2),\n",
    "                'EMA200': EMA(ratios[pair], 200).iloc[-1].round(2),\n",
    "                'Mean': c_c_returns[pair].mean().round(3),\n",
    "                'STD': c_c_returns[pair].std().round(2),\n",
    "                'Z_Score': ((c_c_returns[pair].iloc[-1] - c_c_returns[pair].mean()) / c_c_returns[pair].std()).round(2),\n",
    "                'Kurtosis': c_c_returns[pair].kurtosis().round(2),\n",
    "                'Skewness': c_c_returns[pair].skew().round(2),\n",
    "                'Min': c_c_returns[pair].min().round(2),\n",
    "                'Max': c_c_returns[pair].max().round(2)\n",
    "                \n",
    "            }\n",
    "        })\n",
    "        \n",
    "        descriptive_statistics = pd.concat([descriptive_statistics, pair_statistics], axis=1)\n",
    "    \n",
    "    return descriptive_statistics.T"
   ]
  },
  {
   "cell_type": "code",
   "execution_count": 33,
   "metadata": {},
   "outputs": [],
   "source": [
    "any_pairs_watchlist = watchlist(pairs=any_pairs, c_c_returns=any_pair_cc_returns, ratios=any_pair_ratios, ratio_beta=any_pair_beta)\n",
    "positive_statistics_watchlist = watchlist(pairs=positive_statistics, c_c_returns=positive_statistics_cc_returns, ratios=positive_statistics_ratios, ratio_beta=positive_statistics_beta)\n",
    "dividend_positive_watchlist = watchlist(pairs=dividend_positive, c_c_returns=dividend_positive_cc_returns, ratios=dividend_positive_ratios, ratio_beta=dividend_positive_beta)"
   ]
  },
  {
   "cell_type": "code",
   "execution_count": 34,
   "metadata": {},
   "outputs": [
    {
     "data": {
      "text/plain": [
       "181"
      ]
     },
     "execution_count": 34,
     "metadata": {},
     "output_type": "execute_result"
    }
   ],
   "source": [
    "any_pairs_watchlist.to_sql(\"Any_pairs_watchlist\", engine, if_exists='replace', index=False)\n",
    "positive_statistics_watchlist.to_sql(\"Pos_statistics_watchlist\", engine, if_exists='replace', index=False)\n",
    "dividend_positive_watchlist.to_sql(\"Div_positive_watchlist\", engine, if_exists='replace', index=False)"
   ]
  },
  {
   "cell_type": "code",
   "execution_count": 41,
   "metadata": {},
   "outputs": [
    {
     "data": {
      "text/html": [
       "<div>\n",
       "<style scoped>\n",
       "    .dataframe tbody tr th:only-of-type {\n",
       "        vertical-align: middle;\n",
       "    }\n",
       "\n",
       "    .dataframe tbody tr th {\n",
       "        vertical-align: top;\n",
       "    }\n",
       "\n",
       "    .dataframe thead th {\n",
       "        text-align: right;\n",
       "    }\n",
       "</style>\n",
       "<table border=\"1\" class=\"dataframe\">\n",
       "  <thead>\n",
       "    <tr style=\"text-align: right;\">\n",
       "      <th></th>\n",
       "      <th>Long</th>\n",
       "      <th>Short</th>\n",
       "      <th>Beta</th>\n",
       "      <th>Ratio</th>\n",
       "      <th>EMA20</th>\n",
       "      <th>EMA60</th>\n",
       "      <th>EMA200</th>\n",
       "      <th>Mean</th>\n",
       "      <th>STD</th>\n",
       "      <th>Z_Score</th>\n",
       "      <th>Kurtosis</th>\n",
       "      <th>Skewness</th>\n",
       "      <th>Min</th>\n",
       "      <th>Max</th>\n",
       "    </tr>\n",
       "  </thead>\n",
       "  <tbody>\n",
       "    <tr>\n",
       "      <th>0</th>\n",
       "      <td>FANG</td>\n",
       "      <td>INCY</td>\n",
       "      <td>1.53</td>\n",
       "      <td>2.98</td>\n",
       "      <td>2.77</td>\n",
       "      <td>2.65</td>\n",
       "      <td>2.44</td>\n",
       "      <td>0.134</td>\n",
       "      <td>3.66</td>\n",
       "      <td>-0.47</td>\n",
       "      <td>12.57</td>\n",
       "      <td>0.19</td>\n",
       "      <td>-40.79</td>\n",
       "      <td>33.95</td>\n",
       "    </tr>\n",
       "    <tr>\n",
       "      <th>1</th>\n",
       "      <td>OKE</td>\n",
       "      <td>INCY</td>\n",
       "      <td>1.75</td>\n",
       "      <td>1.22</td>\n",
       "      <td>1.18</td>\n",
       "      <td>1.15</td>\n",
       "      <td>1.06</td>\n",
       "      <td>0.109</td>\n",
       "      <td>3.30</td>\n",
       "      <td>-0.12</td>\n",
       "      <td>15.68</td>\n",
       "      <td>0.17</td>\n",
       "      <td>-33.43</td>\n",
       "      <td>34.14</td>\n",
       "    </tr>\n",
       "    <tr>\n",
       "      <th>2</th>\n",
       "      <td>SPG</td>\n",
       "      <td>HOLX</td>\n",
       "      <td>1.52</td>\n",
       "      <td>1.98</td>\n",
       "      <td>1.96</td>\n",
       "      <td>1.90</td>\n",
       "      <td>1.69</td>\n",
       "      <td>-0.004</td>\n",
       "      <td>2.58</td>\n",
       "      <td>-0.28</td>\n",
       "      <td>31.40</td>\n",
       "      <td>1.81</td>\n",
       "      <td>-18.91</td>\n",
       "      <td>40.40</td>\n",
       "    </tr>\n",
       "    <tr>\n",
       "      <th>3</th>\n",
       "      <td>STLA</td>\n",
       "      <td>INCY</td>\n",
       "      <td>2.49</td>\n",
       "      <td>0.42</td>\n",
       "      <td>0.40</td>\n",
       "      <td>0.38</td>\n",
       "      <td>0.33</td>\n",
       "      <td>0.130</td>\n",
       "      <td>3.04</td>\n",
       "      <td>-0.58</td>\n",
       "      <td>5.48</td>\n",
       "      <td>0.30</td>\n",
       "      <td>-19.24</td>\n",
       "      <td>28.19</td>\n",
       "    </tr>\n",
       "  </tbody>\n",
       "</table>\n",
       "</div>"
      ],
      "text/plain": [
       "   Long Short  Beta  Ratio  EMA20  EMA60  EMA200   Mean   STD  Z_Score  \\\n",
       "0  FANG  INCY  1.53   2.98   2.77   2.65    2.44  0.134  3.66    -0.47   \n",
       "1   OKE  INCY  1.75   1.22   1.18   1.15    1.06  0.109  3.30    -0.12   \n",
       "2   SPG  HOLX  1.52   1.98   1.96   1.90    1.69 -0.004  2.58    -0.28   \n",
       "3  STLA  INCY  2.49   0.42   0.40   0.38    0.33  0.130  3.04    -0.58   \n",
       "\n",
       "   Kurtosis  Skewness    Min    Max  \n",
       "0     12.57      0.19 -40.79  33.95  \n",
       "1     15.68      0.17 -33.43  34.14  \n",
       "2     31.40      1.81 -18.91  40.40  \n",
       "3      5.48      0.30 -19.24  28.19  "
      ]
     },
     "execution_count": 41,
     "metadata": {},
     "output_type": "execute_result"
    }
   ],
   "source": [
    "pd.read_sql_query(\"\"\"SELECT * FROM Div_positive_watchlist WHERE Beta > 1.5 \n",
    "                  AND Ratio > EMA20 AND Ratio > EMA60 AND Ratio > EMA200\n",
    "                  AND Z_Score < 0\"\"\", engine)"
   ]
  }
 ],
 "metadata": {
  "kernelspec": {
   "display_name": "Python 3",
   "language": "python",
   "name": "python3"
  },
  "language_info": {
   "codemirror_mode": {
    "name": "ipython",
    "version": 3
   },
   "file_extension": ".py",
   "mimetype": "text/x-python",
   "name": "python",
   "nbconvert_exporter": "python",
   "pygments_lexer": "ipython3",
   "version": "3.12.1"
  }
 },
 "nbformat": 4,
 "nbformat_minor": 2
}
