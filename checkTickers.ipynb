{
 "cells": [
  {
   "cell_type": "code",
   "execution_count": 9,
   "metadata": {},
   "outputs": [],
   "source": [
    "import pandas as pd\n",
    "import numpy as np\n",
    "import yfinance as yf\n",
    "from datetime import date\n",
    "\n",
    "start_date = date.fromisoformat(\"2015-01-03\")"
   ]
  },
  {
   "cell_type": "code",
   "execution_count": 10,
   "metadata": {},
   "outputs": [],
   "source": [
    "def searcher(data):\n",
    "        ticker1 = yf.Tickers(data)\n",
    "\n",
    "        dataframe1 = ticker1.history(\n",
    "            start=start_date, interval=\"1d\", rounding=True, auto_adjust=True).Close\n"
   ]
  },
  {
   "cell_type": "code",
   "execution_count": 11,
   "metadata": {},
   "outputs": [],
   "source": [
    "tickers_29_100 = 'A   AAP   AAPL   ABT   ACGL   ACM   ADBE   ADI   ADP   ADSK   AEP   AFL   AGCO   AJG   AKAM   ALB   ALGN   ALL   ALNY   AMAT   AMD   AME   AMGN   AMZN   ANET   ANSS   APD   ASML   AVGO   AXON   AZN   AZTA   BA   BABA   BALL   BBY   BHP   BIDU   BIIB   BLDR   BMRN   BRK-B   BURL   CBRE   CCEP   CDNS   CE   CF   CGNX   CHKP   CHRW   CHTR   CINF   CMC   CME   CNC   COF   COST   CPRT   CRL   CRM   CSGP   CTSH   DD   DHI   DIS   DLTR   DOX   DRI   DXCM   EA   ECL   EMN   ENPH   ENTG   ETSY   EW   EXAS   EXPD   EXPE   FANG   FISV   FIVE   FLT   FMC   FNV   FSLR   FWONK   GDDY   GILD   GMED   GOOG   GOOGL   GPC   HOLX   HON   HQY   HSIC   HZNP   IBKR   IBM   ICLR   IFF   ILMN   INCY   INTU   IQV   ISRG   JBHT   JKHY   KEYS   KKR   KLAC   KMX   L   LBRDK   LEN   LKQ   LNT   LOGI   LPLA   LRCX   LSCC   LULU   LVS   LYB   LYV   MAR   MAXR   MCHP   MDB   MDLZ   META   MNST   MOH   MSFT   MU   NBIX   NDAQ   NEM   NFLX   NOW   NTAP   NTES   NTRS   NUE   NVDA   NXPI   ODFL   OKTA   OLN   OMC   ON   PANW   PAYX   PCAR   PEP   PFG   PPG   PTC   PYPL   QCOM   QRVO   RCL   REG   REGN   REXR   RGEN   RIO   ROST   RPM   SBAC   SBUX   SCCO   SGEN   SHW   SIVB   SNPS   SPLK   SQ   SQM   SRPT   SSNC   STLD   STX   SWKS   TECH   TER   THC   TMUS   TRMB   TROW   TSCO   TSLA   TSM   TTWO   TXN   ULTA   URI   VEEV   VMC   VMW   VRSK   VRSN   VRTX   WDAY   WOLF   WTW   XEL'"
   ]
  },
  {
   "cell_type": "code",
   "execution_count": 12,
   "metadata": {},
   "outputs": [
    {
     "name": "stdout",
     "output_type": "stream",
     "text": [
      "[*********************100%***********************]  209 of 209 completed\n"
     ]
    }
   ],
   "source": [
    "searcher(tickers_29_100)"
   ]
  },
  {
   "cell_type": "code",
   "execution_count": null,
   "metadata": {},
   "outputs": [],
   "source": []
  }
 ],
 "metadata": {
  "kernelspec": {
   "display_name": ".venv",
   "language": "python",
   "name": "python3"
  },
  "language_info": {
   "codemirror_mode": {
    "name": "ipython",
    "version": 3
   },
   "file_extension": ".py",
   "mimetype": "text/x-python",
   "name": "python",
   "nbconvert_exporter": "python",
   "pygments_lexer": "ipython3",
   "version": "3.10.8"
  },
  "orig_nbformat": 4,
  "vscode": {
   "interpreter": {
    "hash": "26606c0de773fc6158503fc9f78b552a6f1d87962ab0f563445360ff735daea1"
   }
  }
 },
 "nbformat": 4,
 "nbformat_minor": 2
}
