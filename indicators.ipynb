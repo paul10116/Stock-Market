{
 "cells": [
  {
   "cell_type": "code",
   "execution_count": 1,
   "metadata": {},
   "outputs": [],
   "source": [
    "import pandas as pd\n",
    "import matplotlib.pyplot as plt\n",
    "from datetime import datetime\n",
    "import seaborn as sns\n",
    "import yfinance as yf\n",
    "%matplotlib widget\n",
    "\n",
    "sns.set_style(\"darkgrid\")\n",
    "sns.set(font_scale=1.7)"
   ]
  },
  {
   "cell_type": "code",
   "execution_count": null,
   "metadata": {},
   "outputs": [],
   "source": [
    "buy_ticker = \"GDDY\"\n",
    "sell_ticker = \"ABT\"\n",
    "ticker1 = yf.Ticker(buy_ticker)\n",
    "ticker2 = yf.Ticker(sell_ticker)\n",
    "dataFrame1 = ticker1.history(\n",
    "    start='2017-1-1', actions=True, rounding=True)\n",
    "dataFrame2 = ticker2.history(\n",
    "    start='2017-1-1', actions=True, rounding=True)\n",
    "\n",
    "ratio = dataFrame1.Close / dataFrame2.Close\n",
    "spread = dataFrame1.Close - dataFrame2.Close\n"
   ]
  },
  {
   "cell_type": "code",
   "execution_count": null,
   "metadata": {},
   "outputs": [],
   "source": [
    "ratio[\"MA50\"] = ratio[\"Close\"].rolling(50).mean()\n",
    "ratio[\"Min50\"] = ratio[\"Close\"].rolling(50).min()\n",
    "ratio[\"Max50\"] = ratio[\"Close\"].rolling(50).max()\n",
    "ratio[\"UpperBand\"] = (ratio[\"Close\"].rolling(50).mean()) + \\\n",
    "    (ratio[\"Close\"].rolling(50).std())\n",
    "ratio[\"LowerBand\"] = (ratio[\"Close\"].rolling(50).mean()) - \\\n",
    "    (ratio[\"Close\"].rolling(50).std())\n",
    "ratio[\"EMA50\"] = ratio[\"Close\"].ewm(span=26, adjust=False).mean()\n",
    "ratio[\"EMA20\"] = ratio[\"Close\"].ewm(span=12, adjust=False).mean()\n",
    "ratio[\"MACD\"] = ratio[\"EMA20\"] - ratio[\"EMA50\"]\n",
    "ratio[\"MACD signal\"] = ratio[\"MACD\"].ewm(span=9, adjust=False).mean()\n"
   ]
  },
  {
   "cell_type": "code",
   "execution_count": null,
   "metadata": {},
   "outputs": [],
   "source": [
    "z_score = (ratio - ratio.mean())/ratio.std()\n",
    "\n",
    "mean_Mavg100 = z_score.rolling(window=100, center=False).mean()\n",
    "mean_Mavg50 = z_score.rolling(window=50, center=False).mean()\n"
   ]
  },
  {
   "cell_type": "code",
   "execution_count": null,
   "metadata": {},
   "outputs": [],
   "source": [
    "plt.figure(figsize=(17, 8))\n",
    "plt.plot(ratio)\n",
    "plt.legend(ratio)\n",
    "buy = ratio[\"Close\"].copy()\n",
    "sell = ratio[\"Close\"].copy()\n",
    "buy[mean_Mavg50 > -1.5] = 0\n",
    "sell[mean_Mavg50 < 1.5] = 0\n",
    "buy.plot(color=\"g\", linestyle=\"None\", marker=\"^\")\n",
    "sell.plot(color=\"r\", linestyle=\"None\", marker=\"^\")\n",
    "x1, x2, y1, y2 = plt.axis()\n",
    "plt.axis((x1, x2, ratio[\"Close\"].min(), ratio[\"Close\"].max()))\n",
    "plt.legend([\"Ratio\", \"Buy signal\", \"Sell signal\"])\n"
   ]
  },
  {
   "cell_type": "code",
   "execution_count": null,
   "metadata": {},
   "outputs": [],
   "source": [
    "fig, axes = plt.subplots(3, figsize=(18, 12))\n",
    "\n",
    "axes[0].set_title(f\"{buy_ticker} / {sell_ticker}\")\n",
    "sns.lineplot(data=dataFrame1, x=\"Date\", y=\"Close\",\n",
    "             ax=axes[0], label=buy_ticker)\n",
    "sns.lineplot(data=dataFrame2, x=\"Date\", y=\"Close\",\n",
    "             ax=axes[0], label=sell_ticker)\n",
    "\n",
    "axes[1].set_title(f\"{buy_ticker} / {sell_ticker}\")\n",
    "sns.lineplot(data=ratio, ax=axes[1])\n",
    "sns.lineplot(data=UpperBand, ax=axes[1])\n",
    "sns.lineplot(data=LowerBand, ax=axes[1])\n",
    "axes[1].axhline(y=stop_loss[-1], linewidth=2, color='r', linestyle='dotted')\n",
    "axes[1].axhline(y=Entry, linewidth=2, color='g', linestyle='dotted')\n",
    "axes[1].axhline(y=Target, linewidth=2, color='b', linestyle='dotted')\n",
    "\n",
    "axes[2].set_title(f\"{buy_ticker} / {sell_ticker}\")\n",
    "sns.lineplot(data=spread, ax=axes[2])\n",
    "\n",
    "\n",
    "plt.tight_layout(pad=1)\n"
   ]
  }
 ],
 "metadata": {
  "kernelspec": {
   "display_name": "Python 3.10.8 ('.venv': venv)",
   "language": "python",
   "name": "python3"
  },
  "language_info": {
   "codemirror_mode": {
    "name": "ipython",
    "version": 3
   },
   "file_extension": ".py",
   "mimetype": "text/x-python",
   "name": "python",
   "nbconvert_exporter": "python",
   "pygments_lexer": "ipython3",
   "version": "3.10.8"
  },
  "orig_nbformat": 4,
  "vscode": {
   "interpreter": {
    "hash": "26606c0de773fc6158503fc9f78b552a6f1d87962ab0f563445360ff735daea1"
   }
  }
 },
 "nbformat": 4,
 "nbformat_minor": 2
}
