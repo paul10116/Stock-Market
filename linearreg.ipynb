{
 "cells": [
  {
   "cell_type": "code",
   "execution_count": 114,
   "metadata": {},
   "outputs": [],
   "source": [
    "import pandas as pd\n",
    "import numpy as np\n",
    "import matplotlib.pyplot as plt\n",
    "from sklearn import linear_model\n",
    "import datetime as dt\n",
    "import yfinance as yf\n",
    "%matplotlib widget\n"
   ]
  },
  {
   "cell_type": "markdown",
   "metadata": {},
   "source": [
    "BETA = covariance / variance"
   ]
  },
  {
   "cell_type": "code",
   "execution_count": 99,
   "metadata": {},
   "outputs": [],
   "source": [
    "start = dt.datetime(2020, 10, 20)\n",
    "\n",
    "simbol1 = \"SPY\"\n",
    "simbol2 = \"COF\"\n",
    "ticker1 = yf.Ticker(simbol1)\n",
    "ticker2 = yf.Ticker(simbol2)\n",
    "stock_data1 = ticker1.history(start=start, actions=False, rounding=True)\n",
    "stock_data2 = ticker2.history(start=start, actions=False, rounding=True)"
   ]
  },
  {
   "cell_type": "code",
   "execution_count": 100,
   "metadata": {},
   "outputs": [],
   "source": [
    "stock_data = pd.concat([stock_data1.Close, stock_data2.Close], axis=1)"
   ]
  },
  {
   "cell_type": "code",
   "execution_count": 101,
   "metadata": {},
   "outputs": [],
   "source": [
    "stock_data.columns = [simbol1,simbol2]"
   ]
  },
  {
   "cell_type": "code",
   "execution_count": 102,
   "metadata": {},
   "outputs": [
    {
     "data": {
      "text/html": [
       "<div>\n",
       "<style scoped>\n",
       "    .dataframe tbody tr th:only-of-type {\n",
       "        vertical-align: middle;\n",
       "    }\n",
       "\n",
       "    .dataframe tbody tr th {\n",
       "        vertical-align: top;\n",
       "    }\n",
       "\n",
       "    .dataframe thead th {\n",
       "        text-align: right;\n",
       "    }\n",
       "</style>\n",
       "<table border=\"1\" class=\"dataframe\">\n",
       "  <thead>\n",
       "    <tr style=\"text-align: right;\">\n",
       "      <th></th>\n",
       "      <th>SPY</th>\n",
       "      <th>COF</th>\n",
       "    </tr>\n",
       "    <tr>\n",
       "      <th>Date</th>\n",
       "      <th></th>\n",
       "      <th></th>\n",
       "    </tr>\n",
       "  </thead>\n",
       "  <tbody>\n",
       "    <tr>\n",
       "      <th>2020-10-20 00:00:00-04:00</th>\n",
       "      <td>333.56</td>\n",
       "      <td>74.75</td>\n",
       "    </tr>\n",
       "    <tr>\n",
       "      <th>2020-10-21 00:00:00-04:00</th>\n",
       "      <td>332.93</td>\n",
       "      <td>71.32</td>\n",
       "    </tr>\n",
       "    <tr>\n",
       "      <th>2020-10-22 00:00:00-04:00</th>\n",
       "      <td>334.76</td>\n",
       "      <td>74.25</td>\n",
       "    </tr>\n",
       "    <tr>\n",
       "      <th>2020-10-23 00:00:00-04:00</th>\n",
       "      <td>335.89</td>\n",
       "      <td>75.45</td>\n",
       "    </tr>\n",
       "    <tr>\n",
       "      <th>2020-10-26 00:00:00-04:00</th>\n",
       "      <td>329.69</td>\n",
       "      <td>72.51</td>\n",
       "    </tr>\n",
       "    <tr>\n",
       "      <th>...</th>\n",
       "      <td>...</td>\n",
       "      <td>...</td>\n",
       "    </tr>\n",
       "    <tr>\n",
       "      <th>2022-10-14 00:00:00-04:00</th>\n",
       "      <td>357.63</td>\n",
       "      <td>95.39</td>\n",
       "    </tr>\n",
       "    <tr>\n",
       "      <th>2022-10-17 00:00:00-04:00</th>\n",
       "      <td>366.82</td>\n",
       "      <td>97.47</td>\n",
       "    </tr>\n",
       "    <tr>\n",
       "      <th>2022-10-18 00:00:00-04:00</th>\n",
       "      <td>371.13</td>\n",
       "      <td>99.59</td>\n",
       "    </tr>\n",
       "    <tr>\n",
       "      <th>2022-10-19 00:00:00-04:00</th>\n",
       "      <td>368.50</td>\n",
       "      <td>95.23</td>\n",
       "    </tr>\n",
       "    <tr>\n",
       "      <th>2022-10-20 00:00:00-04:00</th>\n",
       "      <td>365.41</td>\n",
       "      <td>94.98</td>\n",
       "    </tr>\n",
       "  </tbody>\n",
       "</table>\n",
       "<p>505 rows × 2 columns</p>\n",
       "</div>"
      ],
      "text/plain": [
       "                              SPY    COF\n",
       "Date                                    \n",
       "2020-10-20 00:00:00-04:00  333.56  74.75\n",
       "2020-10-21 00:00:00-04:00  332.93  71.32\n",
       "2020-10-22 00:00:00-04:00  334.76  74.25\n",
       "2020-10-23 00:00:00-04:00  335.89  75.45\n",
       "2020-10-26 00:00:00-04:00  329.69  72.51\n",
       "...                           ...    ...\n",
       "2022-10-14 00:00:00-04:00  357.63  95.39\n",
       "2022-10-17 00:00:00-04:00  366.82  97.47\n",
       "2022-10-18 00:00:00-04:00  371.13  99.59\n",
       "2022-10-19 00:00:00-04:00  368.50  95.23\n",
       "2022-10-20 00:00:00-04:00  365.41  94.98\n",
       "\n",
       "[505 rows x 2 columns]"
      ]
     },
     "execution_count": 102,
     "metadata": {},
     "output_type": "execute_result"
    }
   ],
   "source": [
    "stock_data"
   ]
  },
  {
   "cell_type": "code",
   "execution_count": 103,
   "metadata": {},
   "outputs": [],
   "source": [
    "close_data_pct = np.log(stock_data/stock_data.shift())"
   ]
  },
  {
   "cell_type": "code",
   "execution_count": 104,
   "metadata": {},
   "outputs": [
    {
     "data": {
      "text/html": [
       "<div>\n",
       "<style scoped>\n",
       "    .dataframe tbody tr th:only-of-type {\n",
       "        vertical-align: middle;\n",
       "    }\n",
       "\n",
       "    .dataframe tbody tr th {\n",
       "        vertical-align: top;\n",
       "    }\n",
       "\n",
       "    .dataframe thead th {\n",
       "        text-align: right;\n",
       "    }\n",
       "</style>\n",
       "<table border=\"1\" class=\"dataframe\">\n",
       "  <thead>\n",
       "    <tr style=\"text-align: right;\">\n",
       "      <th></th>\n",
       "      <th>SPY</th>\n",
       "      <th>COF</th>\n",
       "    </tr>\n",
       "    <tr>\n",
       "      <th>Date</th>\n",
       "      <th></th>\n",
       "      <th></th>\n",
       "    </tr>\n",
       "  </thead>\n",
       "  <tbody>\n",
       "    <tr>\n",
       "      <th>2020-10-20 00:00:00-04:00</th>\n",
       "      <td>NaN</td>\n",
       "      <td>NaN</td>\n",
       "    </tr>\n",
       "    <tr>\n",
       "      <th>2020-10-21 00:00:00-04:00</th>\n",
       "      <td>-0.001891</td>\n",
       "      <td>-0.046972</td>\n",
       "    </tr>\n",
       "    <tr>\n",
       "      <th>2020-10-22 00:00:00-04:00</th>\n",
       "      <td>0.005482</td>\n",
       "      <td>0.040261</td>\n",
       "    </tr>\n",
       "    <tr>\n",
       "      <th>2020-10-23 00:00:00-04:00</th>\n",
       "      <td>0.003370</td>\n",
       "      <td>0.016032</td>\n",
       "    </tr>\n",
       "    <tr>\n",
       "      <th>2020-10-26 00:00:00-04:00</th>\n",
       "      <td>-0.018631</td>\n",
       "      <td>-0.039746</td>\n",
       "    </tr>\n",
       "  </tbody>\n",
       "</table>\n",
       "</div>"
      ],
      "text/plain": [
       "                                SPY       COF\n",
       "Date                                         \n",
       "2020-10-20 00:00:00-04:00       NaN       NaN\n",
       "2020-10-21 00:00:00-04:00 -0.001891 -0.046972\n",
       "2020-10-22 00:00:00-04:00  0.005482  0.040261\n",
       "2020-10-23 00:00:00-04:00  0.003370  0.016032\n",
       "2020-10-26 00:00:00-04:00 -0.018631 -0.039746"
      ]
     },
     "execution_count": 104,
     "metadata": {},
     "output_type": "execute_result"
    }
   ],
   "source": [
    "close_data_pct.head()"
   ]
  },
  {
   "cell_type": "code",
   "execution_count": 105,
   "metadata": {},
   "outputs": [
    {
     "data": {
      "text/plain": [
       "0.00017296541788000422"
      ]
     },
     "execution_count": 105,
     "metadata": {},
     "output_type": "execute_result"
    }
   ],
   "source": [
    "covariance = close_data_pct.cov().iloc[0,1]\n",
    "covariance"
   ]
  },
  {
   "cell_type": "code",
   "execution_count": 106,
   "metadata": {},
   "outputs": [
    {
     "data": {
      "text/plain": [
       "0.0001391978591693979"
      ]
     },
     "execution_count": 106,
     "metadata": {},
     "output_type": "execute_result"
    }
   ],
   "source": [
    "variance = close_data_pct[\"SPY\"].var()\n",
    "variance"
   ]
  },
  {
   "cell_type": "code",
   "execution_count": 107,
   "metadata": {},
   "outputs": [
    {
     "data": {
      "text/plain": [
       "1.242586767584641"
      ]
     },
     "execution_count": 107,
     "metadata": {},
     "output_type": "execute_result"
    }
   ],
   "source": [
    "BETA = covariance/variance\n",
    "BETA"
   ]
  },
  {
   "cell_type": "code",
   "execution_count": 109,
   "metadata": {},
   "outputs": [
    {
     "data": {
      "application/vnd.jupyter.widget-view+json": {
       "model_id": "ae9b287e38c546ae911c195817f84c80",
       "version_major": 2,
       "version_minor": 0
      },
      "image/png": "[encoded data removed]",
      "text/html": [
       "\n",
       "            <div style=\"display: inline-block;\">\n",
       "                <div class=\"jupyter-widgets widget-label\" style=\"text-align: center;\">\n",
       "                    Figure\n",
       "                </div>\n",
       "                <img src='data:image/png;base64,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' width=640.0/>\n",
       "            </div>\n",
       "        "
      ],
      "text/plain": [
       "Canvas(toolbar=Toolbar(toolitems=[('Home', 'Reset original view', 'home', 'home'), ('Back', 'Back to previous …"
      ]
     },
     "metadata": {},
     "output_type": "display_data"
    }
   ],
   "source": [
    "fig1, ax1 = plt.subplots()\n",
    "ax1.scatter(close_data_pct.SPY, close_data_pct.COF);"
   ]
  },
  {
   "cell_type": "markdown",
   "metadata": {},
   "source": [
    "Linear regression:"
   ]
  },
  {
   "cell_type": "code",
   "execution_count": 118,
   "metadata": {},
   "outputs": [
    {
     "data": {
      "text/plain": [
       "array([[1.24258677]])"
      ]
     },
     "execution_count": 118,
     "metadata": {},
     "output_type": "execute_result"
    }
   ],
   "source": [
    "X = close_data_pct['SPY'].iloc[1:].values.reshape(-1,1)\n",
    "Y = close_data_pct['COF'].iloc[1:].values.reshape(-1,1)\n",
    "\n",
    "regression = linear_model.LinearRegression()\n",
    "regression.fit(X,Y)\n",
    "regression.coef_\n",
    "# regression coeficient value is the same as beta value"
   ]
  },
  {
   "cell_type": "code",
   "execution_count": null,
   "metadata": {},
   "outputs": [],
   "source": []
  }
 ],
 "metadata": {
  "kernelspec": {
   "display_name": "Python 3.10.8 ('.venv': venv)",
   "language": "python",
   "name": "python3"
  },
  "language_info": {
   "codemirror_mode": {
    "name": "ipython",
    "version": 3
   },
   "file_extension": ".py",
   "mimetype": "text/x-python",
   "name": "python",
   "nbconvert_exporter": "python",
   "pygments_lexer": "ipython3",
   "version": "3.10.8"
  },
  "orig_nbformat": 4,
  "vscode": {
   "interpreter": {
    "hash": "26606c0de773fc6158503fc9f78b552a6f1d87962ab0f563445360ff735daea1"
   }
  }
 },
 "nbformat": 4,
 "nbformat_minor": 2
}
