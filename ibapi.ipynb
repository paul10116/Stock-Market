{
 "cells": [
  {
   "cell_type": "code",
   "execution_count": 14,
   "metadata": {},
   "outputs": [],
   "source": [
    "import ibapi\n",
    "from ibapi.client import EClient\n",
    "from ibapi.wrapper import EWrapper\n",
    "from ibapi.contract import Contract\n",
    "from ibapi.order import *\n",
    "import threading\n",
    "import time"
   ]
  },
  {
   "cell_type": "markdown",
   "metadata": {},
   "source": [
    "Class for IB connection:"
   ]
  },
  {
   "cell_type": "code",
   "execution_count": 15,
   "metadata": {},
   "outputs": [],
   "source": [
    "class IBApi(EWrapper, EClient):\n",
    "    def _init_(self):\n",
    "        EClient._init_(self, self)\n",
    "    # real time bars:\n",
    "    def realtimeBar(self, reqId, time, open_, high, low, close, volume, wap, count):\n",
    "        super().realtimeBar(reqId, time, open_, high, low, close, volume, wap, count)\n",
    "        try:\n",
    "            bot.on_bar_update(reqId, time, open_, high, low, close, volume, wap, count)\n",
    "        except Exception as e:\n",
    "            print(e)\n",
    "    def error(self, id, errorCode, errorMsg):\n",
    "        print(errorCode)\n",
    "        print(errorMsg)\n",
    "\n"
   ]
  },
  {
   "cell_type": "markdown",
   "metadata": {},
   "source": [
    "Ibot logic:"
   ]
  },
  {
   "cell_type": "code",
   "execution_count": 16,
   "metadata": {},
   "outputs": [],
   "source": [
    "class Bot:\n",
    "    ib = None\n",
    "    def _init_(self):\n",
    "        # connect to IB:\n",
    "        self.ib = IBApi()\n",
    "        self.ib.connect(\"127.0.0.1\",7497,1)\n",
    "        ib_thread = threading.Thread(target=self.run_loop, daemon=True)\n",
    "        ib_thread.start()\n",
    "        time.sleep(1)\n",
    "        symbol = input(\"Enter a simbol:\")\n",
    "        # IB contract object:\n",
    "        contract = Contract()\n",
    "        contract.symbol = symbol.upper()\n",
    "        contract.secType = 'STK'\n",
    "        contract.exchange = 'SMART'\n",
    "        contract.currency = 'USD'\n",
    "        # market data request:\n",
    "        self.ib.reqRealTimeBars(0, contract, 5, 'TRADES', 1, [])\n",
    "    # listen to sicket in seperate thread:\n",
    "    def run_loop(self):\n",
    "        self.ib.run()\n",
    "    # realtime bar data:\n",
    "    def on_bar_update(self, reqId, time, open_, high, low, close, volume, wap, count):\n",
    "        print(close)"
   ]
  },
  {
   "cell_type": "markdown",
   "metadata": {},
   "source": [
    "Start Bot:"
   ]
  },
  {
   "cell_type": "code",
   "execution_count": 17,
   "metadata": {},
   "outputs": [],
   "source": [
    "bot = Bot()"
   ]
  }
 ],
 "metadata": {
  "kernelspec": {
   "display_name": "Python 3.10.8 ('.venv': venv)",
   "language": "python",
   "name": "python3"
  },
  "language_info": {
   "codemirror_mode": {
    "name": "ipython",
    "version": 3
   },
   "file_extension": ".py",
   "mimetype": "text/x-python",
   "name": "python",
   "nbconvert_exporter": "python",
   "pygments_lexer": "ipython3",
   "version": "3.10.8"
  },
  "orig_nbformat": 4,
  "vscode": {
   "interpreter": {
    "hash": "26606c0de773fc6158503fc9f78b552a6f1d87962ab0f563445360ff735daea1"
   }
  }
 },
 "nbformat": 4,
 "nbformat_minor": 2
}
