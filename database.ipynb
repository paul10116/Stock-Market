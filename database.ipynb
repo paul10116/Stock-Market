{
 "cells": [
  {
   "cell_type": "code",
   "execution_count": 1,
   "metadata": {},
   "outputs": [],
   "source": [
    "import sqlalchemy\n",
    "import pandas as pd\n",
    "import yfinance as yf\n",
    "from datetime import date\n",
    "from components.tickers import sectorsTickers, mid_cap_and_above, xlb, xlc, xly, xlp, xle, xlf, xlv, xli, xlk, xlu, xlre\n",
    "\n",
    "start_date = date.fromisoformat(\"2015-01-03\")"
   ]
  },
  {
   "cell_type": "code",
   "execution_count": 4,
   "metadata": {},
   "outputs": [],
   "source": [
    "engine = sqlalchemy.create_engine('sqlite:///stock_etf.db')\n",
    "\n",
    "# VTHCHS39X4T7ML4F for alpha vantage"
   ]
  },
  {
   "cell_type": "code",
   "execution_count": 5,
   "metadata": {},
   "outputs": [
    {
     "name": "stdout",
     "output_type": "stream",
     "text": [
      "[*********************100%%**********************]  29 of 29 completed\n"
     ]
    }
   ],
   "source": [
    "XLB = yf.Tickers(xlb)\n",
    "XLB_dataframe = XLB.history(\n",
    "start=start_date, interval=\"1d\", rounding=True, auto_adjust=True).Close\n",
    "XLB_dataframe = XLB_dataframe.tz_localize(None)\n",
    "XLB_dataframe = XLB_dataframe.reset_index()\n",
    "XLB_dataframe[\"Date\"] = pd.DatetimeIndex(XLB_dataframe['Date'])"
   ]
  },
  {
   "cell_type": "code",
   "execution_count": 6,
   "metadata": {},
   "outputs": [
    {
     "data": {
      "text/plain": [
       "2275"
      ]
     },
     "execution_count": 6,
     "metadata": {},
     "output_type": "execute_result"
    }
   ],
   "source": [
    "XLB_dataframe.to_sql(\"XLB_STOCKS\", engine, if_exists='replace', index=False)"
   ]
  },
  {
   "cell_type": "code",
   "execution_count": 7,
   "metadata": {},
   "outputs": [
    {
     "name": "stdout",
     "output_type": "stream",
     "text": [
      "[*********************100%%**********************]  26 of 26 completed\n"
     ]
    }
   ],
   "source": [
    "XLC = yf.Tickers(xlc)\n",
    "XLC_dataframe = XLC.history(\n",
    "start=start_date, interval=\"1d\", rounding=True, auto_adjust=True).Close\n",
    "XLC_dataframe = XLC_dataframe.tz_localize(None)\n",
    "XLC_dataframe = XLC_dataframe.reset_index()\n",
    "XLC_dataframe[\"Date\"] = pd.DatetimeIndex(XLC_dataframe['Date'])"
   ]
  },
  {
   "cell_type": "code",
   "execution_count": 8,
   "metadata": {},
   "outputs": [
    {
     "data": {
      "text/plain": [
       "2275"
      ]
     },
     "execution_count": 8,
     "metadata": {},
     "output_type": "execute_result"
    }
   ],
   "source": [
    "XLC_dataframe.to_sql(\"XLC_STOCKS\", engine, if_exists='replace', index=False)"
   ]
  },
  {
   "cell_type": "code",
   "execution_count": 9,
   "metadata": {},
   "outputs": [
    {
     "name": "stdout",
     "output_type": "stream",
     "text": [
      "[*********************100%%**********************]  102 of 102 completed\n"
     ]
    }
   ],
   "source": [
    "XLY = yf.Tickers(xly)\n",
    "XLY_dataframe = XLY.history(\n",
    "start=start_date, interval=\"1d\", rounding=True, auto_adjust=True).Close\n",
    "XLY_dataframe = XLY_dataframe.tz_localize(None)\n",
    "XLY_dataframe = XLY_dataframe.reset_index()\n",
    "XLY_dataframe[\"Date\"] = pd.DatetimeIndex(XLY_dataframe['Date'])"
   ]
  },
  {
   "cell_type": "code",
   "execution_count": 10,
   "metadata": {},
   "outputs": [
    {
     "data": {
      "text/plain": [
       "2275"
      ]
     },
     "execution_count": 10,
     "metadata": {},
     "output_type": "execute_result"
    }
   ],
   "source": [
    "XLY_dataframe.to_sql(\"XLY_STOCKS\", engine, if_exists='replace', index=False)"
   ]
  },
  {
   "cell_type": "code",
   "execution_count": 11,
   "metadata": {},
   "outputs": [
    {
     "name": "stdout",
     "output_type": "stream",
     "text": [
      "[*********************100%%**********************]  41 of 41 completed\n"
     ]
    }
   ],
   "source": [
    "XLP = yf.Tickers(xlp)\n",
    "XLP_dataframe = XLP.history(\n",
    "start=start_date, interval=\"1d\", rounding=True, auto_adjust=True).Close\n",
    "XLP_dataframe = XLP_dataframe.tz_localize(None)\n",
    "XLP_dataframe = XLP_dataframe.reset_index()\n",
    "XLP_dataframe[\"Date\"] = pd.DatetimeIndex(XLP_dataframe['Date'])"
   ]
  },
  {
   "cell_type": "code",
   "execution_count": 12,
   "metadata": {},
   "outputs": [
    {
     "data": {
      "text/plain": [
       "2275"
      ]
     },
     "execution_count": 12,
     "metadata": {},
     "output_type": "execute_result"
    }
   ],
   "source": [
    "XLP_dataframe.to_sql(\"XLP_STOCKS\", engine, if_exists='replace', index=False)"
   ]
  },
  {
   "cell_type": "code",
   "execution_count": 13,
   "metadata": {},
   "outputs": [
    {
     "name": "stdout",
     "output_type": "stream",
     "text": [
      "[*********************100%%**********************]  58 of 58 completed\n"
     ]
    }
   ],
   "source": [
    "XLE = yf.Tickers(xle)\n",
    "XLE_dataframe = XLE.history(\n",
    "start=start_date, interval=\"1d\", rounding=True, auto_adjust=True).Close\n",
    "XLE_dataframe = XLE_dataframe.tz_localize(None)\n",
    "XLE_dataframe = XLE_dataframe.reset_index()\n",
    "XLE_dataframe[\"Date\"] = pd.DatetimeIndex(XLE_dataframe['Date'])"
   ]
  },
  {
   "cell_type": "code",
   "execution_count": 14,
   "metadata": {},
   "outputs": [
    {
     "data": {
      "text/plain": [
       "2275"
      ]
     },
     "execution_count": 14,
     "metadata": {},
     "output_type": "execute_result"
    }
   ],
   "source": [
    "XLE_dataframe.to_sql(\"XLE_STOCKS\", engine, if_exists='replace', index=False)"
   ]
  },
  {
   "cell_type": "code",
   "execution_count": 15,
   "metadata": {},
   "outputs": [
    {
     "name": "stdout",
     "output_type": "stream",
     "text": [
      "[*********************100%%**********************]  133 of 133 completed\n"
     ]
    }
   ],
   "source": [
    "XLF = yf.Tickers(xlf)\n",
    "XLF_dataframe = XLF.history(\n",
    "start=start_date, interval=\"1d\", rounding=True, auto_adjust=True).Close\n",
    "XLF_dataframe = XLF_dataframe.tz_localize(None)\n",
    "XLF_dataframe = XLF_dataframe.reset_index()\n",
    "XLF_dataframe[\"Date\"] = pd.DatetimeIndex(XLF_dataframe['Date'])"
   ]
  },
  {
   "cell_type": "code",
   "execution_count": 16,
   "metadata": {},
   "outputs": [
    {
     "data": {
      "text/plain": [
       "2275"
      ]
     },
     "execution_count": 16,
     "metadata": {},
     "output_type": "execute_result"
    }
   ],
   "source": [
    "XLF_dataframe.to_sql(\"XLF_STOCKS\", engine, if_exists='replace', index=False)"
   ]
  },
  {
   "cell_type": "code",
   "execution_count": 17,
   "metadata": {},
   "outputs": [
    {
     "name": "stdout",
     "output_type": "stream",
     "text": [
      "[*********************100%%**********************]  94 of 94 completed\n"
     ]
    }
   ],
   "source": [
    "XLV = yf.Tickers(xlv)\n",
    "XLV_dataframe = XLV.history(\n",
    "start=start_date, interval=\"1d\", rounding=True, auto_adjust=True).Close\n",
    "XLV_dataframe = XLV_dataframe.tz_localize(None)\n",
    "XLV_dataframe = XLV_dataframe.reset_index()\n",
    "XLV_dataframe[\"Date\"] = pd.DatetimeIndex(XLV_dataframe['Date'])"
   ]
  },
  {
   "cell_type": "code",
   "execution_count": 18,
   "metadata": {},
   "outputs": [
    {
     "data": {
      "text/plain": [
       "2275"
      ]
     },
     "execution_count": 18,
     "metadata": {},
     "output_type": "execute_result"
    }
   ],
   "source": [
    "XLV_dataframe.to_sql(\"XLV_STOCKS\", engine, if_exists='replace', index=False)"
   ]
  },
  {
   "cell_type": "code",
   "execution_count": 19,
   "metadata": {},
   "outputs": [
    {
     "name": "stdout",
     "output_type": "stream",
     "text": [
      "[*********************100%%**********************]  100 of 100 completed\n"
     ]
    }
   ],
   "source": [
    "XLI = yf.Tickers(xli)\n",
    "XLI_dataframe = XLI.history(\n",
    "start=start_date, interval=\"1d\", rounding=True, auto_adjust=True).Close\n",
    "XLI_dataframe = XLI_dataframe.tz_localize(None)\n",
    "XLI_dataframe = XLI_dataframe.reset_index()\n",
    "XLI_dataframe[\"Date\"] = pd.DatetimeIndex(XLI_dataframe['Date'])"
   ]
  },
  {
   "cell_type": "code",
   "execution_count": 20,
   "metadata": {},
   "outputs": [
    {
     "data": {
      "text/plain": [
       "2275"
      ]
     },
     "execution_count": 20,
     "metadata": {},
     "output_type": "execute_result"
    }
   ],
   "source": [
    "XLI_dataframe.to_sql(\"XLI_STOCKS\", engine, if_exists='replace', index=False)"
   ]
  },
  {
   "cell_type": "code",
   "execution_count": 21,
   "metadata": {},
   "outputs": [
    {
     "name": "stdout",
     "output_type": "stream",
     "text": [
      "[*********************100%%**********************]  73 of 73 completed\n"
     ]
    }
   ],
   "source": [
    "XLRE = yf.Tickers(xlre)\n",
    "XLRE_dataframe = XLRE.history(\n",
    "start=start_date, interval=\"1d\", rounding=True, auto_adjust=True).Close\n",
    "XLRE_dataframe = XLRE_dataframe.tz_localize(None)\n",
    "XLRE_dataframe = XLRE_dataframe.reset_index()\n",
    "XLRE_dataframe[\"Date\"] = pd.DatetimeIndex(XLRE_dataframe['Date'])"
   ]
  },
  {
   "cell_type": "code",
   "execution_count": 22,
   "metadata": {},
   "outputs": [
    {
     "data": {
      "text/plain": [
       "2275"
      ]
     },
     "execution_count": 22,
     "metadata": {},
     "output_type": "execute_result"
    }
   ],
   "source": [
    "XLRE_dataframe.to_sql(\"XLRE_STOCKS\", engine, if_exists='replace', index=False)"
   ]
  },
  {
   "cell_type": "code",
   "execution_count": 23,
   "metadata": {},
   "outputs": [
    {
     "name": "stdout",
     "output_type": "stream",
     "text": [
      "[*********************100%%**********************]  98 of 98 completed\n"
     ]
    }
   ],
   "source": [
    "XLK = yf.Tickers(xlk)\n",
    "XLK_dataframe = XLK.history(\n",
    "start=start_date, interval=\"1d\", rounding=True, auto_adjust=True).Close\n",
    "XLK_dataframe = XLK_dataframe.tz_localize(None)\n",
    "XLK_dataframe = XLK_dataframe.reset_index()\n",
    "XLK_dataframe[\"Date\"] = pd.DatetimeIndex(XLK_dataframe['Date'])"
   ]
  },
  {
   "cell_type": "code",
   "execution_count": 24,
   "metadata": {},
   "outputs": [
    {
     "data": {
      "text/plain": [
       "2275"
      ]
     },
     "execution_count": 24,
     "metadata": {},
     "output_type": "execute_result"
    }
   ],
   "source": [
    "XLK_dataframe.to_sql(\"XLK_STOCKS\", engine, if_exists='replace', index=False)"
   ]
  },
  {
   "cell_type": "code",
   "execution_count": 25,
   "metadata": {},
   "outputs": [
    {
     "name": "stdout",
     "output_type": "stream",
     "text": [
      "[*********************100%%**********************]  37 of 37 completed\n"
     ]
    }
   ],
   "source": [
    "XLU = yf.Tickers(xlu)\n",
    "XLU_dataframe = XLU.history(\n",
    "start=start_date, interval=\"1d\", rounding=True, auto_adjust=True).Close\n",
    "XLU_dataframe = XLU_dataframe.tz_localize(None)\n",
    "XLU_dataframe = XLU_dataframe.reset_index()\n",
    "XLU_dataframe[\"Date\"] = pd.DatetimeIndex(XLU_dataframe['Date'])"
   ]
  },
  {
   "cell_type": "code",
   "execution_count": 26,
   "metadata": {},
   "outputs": [
    {
     "data": {
      "text/plain": [
       "2275"
      ]
     },
     "execution_count": 26,
     "metadata": {},
     "output_type": "execute_result"
    }
   ],
   "source": [
    "XLU_dataframe.to_sql(\"XLU_STOCKS\", engine, if_exists='replace', index=False)"
   ]
  },
  {
   "cell_type": "code",
   "execution_count": 27,
   "metadata": {},
   "outputs": [
    {
     "name": "stdout",
     "output_type": "stream",
     "text": [
      "[*********************100%%**********************]  790 of 790 completed\n"
     ]
    }
   ],
   "source": [
    "ticker1 = yf.Tickers(mid_cap_and_above)\n",
    "stock_dataframe = ticker1.history(\n",
    "start=start_date, interval=\"1d\", rounding=True, auto_adjust=True).Close\n",
    "stock_dataframe =stock_dataframe.tz_localize(None)\n",
    "stock_dataframe = stock_dataframe.reset_index()\n",
    "stock_dataframe[\"Date\"] = pd.DatetimeIndex(stock_dataframe['Date'])"
   ]
  },
  {
   "cell_type": "code",
   "execution_count": 28,
   "metadata": {},
   "outputs": [
    {
     "data": {
      "text/plain": [
       "2275"
      ]
     },
     "execution_count": 28,
     "metadata": {},
     "output_type": "execute_result"
    }
   ],
   "source": [
    "stock_dataframe.to_sql(\"stockData\", engine, if_exists='replace', index=False)"
   ]
  },
  {
   "cell_type": "code",
   "execution_count": 29,
   "metadata": {},
   "outputs": [
    {
     "name": "stdout",
     "output_type": "stream",
     "text": [
      "[*********************100%%**********************]  12 of 12 completed\n"
     ]
    }
   ],
   "source": [
    "etf = yf.Tickers(sectorsTickers)\n",
    "etf_data = etf.history(\n",
    "start=start_date, interval=\"1d\", rounding=True, auto_adjust=True).Close\n",
    "etf_data = etf_data.tz_localize(None)\n",
    "etf_data = etf_data.reset_index()\n",
    "etf_data[\"Date\"] = pd.DatetimeIndex(etf_data['Date'])"
   ]
  },
  {
   "cell_type": "code",
   "execution_count": 30,
   "metadata": {},
   "outputs": [
    {
     "data": {
      "text/plain": [
       "2275"
      ]
     },
     "execution_count": 30,
     "metadata": {},
     "output_type": "execute_result"
    }
   ],
   "source": [
    "etf_data.to_sql(\"ETF\", engine, if_exists='replace', index=False)"
   ]
  },
  {
   "cell_type": "code",
   "execution_count": 31,
   "metadata": {},
   "outputs": [
    {
     "data": {
      "text/html": [
       "<div>\n",
       "<style scoped>\n",
       "    .dataframe tbody tr th:only-of-type {\n",
       "        vertical-align: middle;\n",
       "    }\n",
       "\n",
       "    .dataframe tbody tr th {\n",
       "        vertical-align: top;\n",
       "    }\n",
       "\n",
       "    .dataframe thead th {\n",
       "        text-align: right;\n",
       "    }\n",
       "</style>\n",
       "<table border=\"1\" class=\"dataframe\">\n",
       "  <thead>\n",
       "    <tr style=\"text-align: right;\">\n",
       "      <th></th>\n",
       "      <th>Date</th>\n",
       "      <th>EOG</th>\n",
       "    </tr>\n",
       "  </thead>\n",
       "  <tbody>\n",
       "    <tr>\n",
       "      <th>0</th>\n",
       "      <td>2015-01-05</td>\n",
       "      <td>66.98</td>\n",
       "    </tr>\n",
       "    <tr>\n",
       "      <th>1</th>\n",
       "      <td>2015-01-06</td>\n",
       "      <td>65.07</td>\n",
       "    </tr>\n",
       "    <tr>\n",
       "      <th>2</th>\n",
       "      <td>2015-01-07</td>\n",
       "      <td>64.66</td>\n",
       "    </tr>\n",
       "    <tr>\n",
       "      <th>3</th>\n",
       "      <td>2015-01-08</td>\n",
       "      <td>67.13</td>\n",
       "    </tr>\n",
       "    <tr>\n",
       "      <th>4</th>\n",
       "      <td>2015-01-09</td>\n",
       "      <td>67.58</td>\n",
       "    </tr>\n",
       "    <tr>\n",
       "      <th>...</th>\n",
       "      <td>...</td>\n",
       "      <td>...</td>\n",
       "    </tr>\n",
       "    <tr>\n",
       "      <th>2270</th>\n",
       "      <td>2024-01-11</td>\n",
       "      <td>114.08</td>\n",
       "    </tr>\n",
       "    <tr>\n",
       "      <th>2271</th>\n",
       "      <td>2024-01-12</td>\n",
       "      <td>115.14</td>\n",
       "    </tr>\n",
       "    <tr>\n",
       "      <th>2272</th>\n",
       "      <td>2024-01-16</td>\n",
       "      <td>112.14</td>\n",
       "    </tr>\n",
       "    <tr>\n",
       "      <th>2273</th>\n",
       "      <td>2024-01-17</td>\n",
       "      <td>110.63</td>\n",
       "    </tr>\n",
       "    <tr>\n",
       "      <th>2274</th>\n",
       "      <td>2024-01-18</td>\n",
       "      <td>110.09</td>\n",
       "    </tr>\n",
       "  </tbody>\n",
       "</table>\n",
       "<p>2275 rows × 2 columns</p>\n",
       "</div>"
      ],
      "text/plain": [
       "           Date     EOG\n",
       "0    2015-01-05   66.98\n",
       "1    2015-01-06   65.07\n",
       "2    2015-01-07   64.66\n",
       "3    2015-01-08   67.13\n",
       "4    2015-01-09   67.58\n",
       "...         ...     ...\n",
       "2270 2024-01-11  114.08\n",
       "2271 2024-01-12  115.14\n",
       "2272 2024-01-16  112.14\n",
       "2273 2024-01-17  110.63\n",
       "2274 2024-01-18  110.09\n",
       "\n",
       "[2275 rows x 2 columns]"
      ]
     },
     "execution_count": 31,
     "metadata": {},
     "output_type": "execute_result"
    }
   ],
   "source": [
    "pd.read_sql(\"SELECT Date, EOG FROM stockData\", engine, parse_dates=\"Date\")"
   ]
  },
  {
   "cell_type": "code",
   "execution_count": 32,
   "metadata": {},
   "outputs": [
    {
     "data": {
      "text/html": [
       "<div>\n",
       "<style scoped>\n",
       "    .dataframe tbody tr th:only-of-type {\n",
       "        vertical-align: middle;\n",
       "    }\n",
       "\n",
       "    .dataframe tbody tr th {\n",
       "        vertical-align: top;\n",
       "    }\n",
       "\n",
       "    .dataframe thead th {\n",
       "        text-align: right;\n",
       "    }\n",
       "</style>\n",
       "<table border=\"1\" class=\"dataframe\">\n",
       "  <thead>\n",
       "    <tr style=\"text-align: right;\">\n",
       "      <th></th>\n",
       "      <th>Date</th>\n",
       "      <th>JustCounting</th>\n",
       "    </tr>\n",
       "  </thead>\n",
       "  <tbody>\n",
       "    <tr>\n",
       "      <th>0</th>\n",
       "      <td>2015-08-20</td>\n",
       "      <td>68</td>\n",
       "    </tr>\n",
       "  </tbody>\n",
       "</table>\n",
       "</div>"
      ],
      "text/plain": [
       "        Date  JustCounting\n",
       "0 2015-08-20            68"
      ]
     },
     "execution_count": 32,
     "metadata": {},
     "output_type": "execute_result"
    }
   ],
   "source": [
    "pd.read_sql(\"SELECT Date, COUNT(*) AS JustCounting FROM stockData WHERE A<35\", engine, parse_dates=\"Date\")"
   ]
  },
  {
   "cell_type": "code",
   "execution_count": 34,
   "metadata": {},
   "outputs": [
    {
     "data": {
      "text/html": [
       "<div>\n",
       "<style scoped>\n",
       "    .dataframe tbody tr th:only-of-type {\n",
       "        vertical-align: middle;\n",
       "    }\n",
       "\n",
       "    .dataframe tbody tr th {\n",
       "        vertical-align: top;\n",
       "    }\n",
       "\n",
       "    .dataframe thead th {\n",
       "        text-align: right;\n",
       "    }\n",
       "</style>\n",
       "<table border=\"1\" class=\"dataframe\">\n",
       "  <thead>\n",
       "    <tr style=\"text-align: right;\">\n",
       "      <th></th>\n",
       "      <th>Date</th>\n",
       "      <th>A</th>\n",
       "    </tr>\n",
       "  </thead>\n",
       "  <tbody>\n",
       "    <tr>\n",
       "      <th>0</th>\n",
       "      <td>2015-09-28</td>\n",
       "      <td>31.19</td>\n",
       "    </tr>\n",
       "    <tr>\n",
       "      <th>1</th>\n",
       "      <td>2015-09-29</td>\n",
       "      <td>31.53</td>\n",
       "    </tr>\n",
       "    <tr>\n",
       "      <th>2</th>\n",
       "      <td>2015-08-25</td>\n",
       "      <td>32.02</td>\n",
       "    </tr>\n",
       "  </tbody>\n",
       "</table>\n",
       "</div>"
      ],
      "text/plain": [
       "        Date      A\n",
       "0 2015-09-28  31.19\n",
       "1 2015-09-29  31.53\n",
       "2 2015-08-25  32.02"
      ]
     },
     "execution_count": 34,
     "metadata": {},
     "output_type": "execute_result"
    }
   ],
   "source": [
    "pd.read_sql(\"SELECT Date, A FROM stockData GROUP BY A\", engine, parse_dates=\"Date\").head(3)"
   ]
  },
  {
   "cell_type": "code",
   "execution_count": 33,
   "metadata": {},
   "outputs": [],
   "source": [
    "\n",
    "# AVG\n",
    "# COUNT\n",
    "# DISTINCT\n",
    "# LOWER\n",
    "# MAX\n",
    "# MIN\n",
    "# UPPER\n",
    "# WHERE\n",
    "# LIKE\n",
    "# ORDER BY\n",
    "# LIMIT\n",
    "# GROUP BY\n",
    "# DESC\n",
    "\n",
    "# UPDATE table SET column = value WHERE condition\n",
    "# DELETE FROM table WHERE condition\n",
    "\n",
    "# Data types: BLOB (Binary large object), INTEGER, NUMERIC (special number based info like dates, times etc...), REAL (foat number), TEXT\n",
    "\n",
    "# NOT NULL is used to make sure that value was represented (text or number)\n",
    "\n",
    "# SELECT column FROM table WHERE id IN (SELECT id FROM table WHERE condition = value) . First executes in brackets, then combines information\n",
    "\n",
    "# SELECT column FROM table WHERE id IN (SELECT short_id FROM shorts WHERE short_id = (SELECT id FROM longs WHERE long = name)) ORDER BY column\n",
    "\n",
    "# SELECT * FROM shows JOIN genres ON shows.id = genres.show_id WHERE title = 'the office'\n",
    "# SELECT * FROM people WHERE name LIKE 'Steve C%'  % sign tells to choose anything after C\n",
    "\n",
    "# CREATE INDEX column_index ON shows (column_name) . Makes searches much faster with seperate column index. B-trees\n",
    "\n",
    "# variable_name = input(\"ticker: \")\n",
    "# db.execute(\"SELECT * FROM table WHERE ticker = ?\", variable_name)  dynamic routing\n",
    "\n",
    "# race condition - many users do the same requests.\n",
    "\n",
    "# to make race condition less problamatic there are few solutions: BEGIN TRANSACTION, COMMIT, ROLLBACK.\n",
    "# db.execute(\"BEGIN TRANSACTION\")\n",
    "# rows = db.execute(\"SELECT * FROM data WHERE id = ?\", id)\n",
    "# likes = rows[0][\"likes\"]\n",
    "# db.execute(\"UPDATE posts SET likes = ? WHERE id = ?\", likes+1, id)\n",
    "# db.execute(\"COMMIT\")\n",
    "\n",
    "#  '-- in SQL means ignore after dashes (comments out left code). Single qoute helps if DB code line is formatted, not used ?."
   ]
  },
  {
   "cell_type": "code",
   "execution_count": 36,
   "metadata": {},
   "outputs": [],
   "source": [
    "# df = web.get_data_stooq(\"AA\", start_date).Close\n",
    "# print(df)"
   ]
  },
  {
   "cell_type": "code",
   "execution_count": 37,
   "metadata": {},
   "outputs": [],
   "source": [
    "# tickerList_for_now = 'AA'\n",
    "# tickerList_for_now = delisted.split()\n",
    "# df = pd.DataFrame()\n",
    "\n",
    "# for ticker in tickerList_for_now:\n",
    "#     df = web.get_data_stooq( ticker, start=start_date).Close"
   ]
  },
  {
   "cell_type": "code",
   "execution_count": 38,
   "metadata": {},
   "outputs": [],
   "source": [
    "# dataframe1 = dataframe1.tz_localize(None)\n",
    "# df = df.tz_localize(None)\n",
    "# companiesFrame = pd.concat([dataframe1, df], axis=1)\n",
    "# companiesFrame = companiesFrame.reset_index()\n",
    "# companiesFrame['Date'] = pd.DatetimeIndex(companiesFrame['Date'])"
   ]
  },
  {
   "cell_type": "code",
   "execution_count": 39,
   "metadata": {},
   "outputs": [],
   "source": [
    "# indexes = yf.Tickers(sectorsTickers)\n",
    "# indexes_data = indexes.history(\n",
    "#     start=start_date, interval=\"1d\", rounding=True, auto_adjust=True).Close\n",
    "# indexes_data = indexes_data.tz_localize(None)\n",
    "# indexes_data = indexes_data.reset_index()\n",
    "# indexes_data[\"Date\"] = pd.DatetimeIndex(indexes_data['Date'])"
   ]
  }
 ],
 "metadata": {
  "kernelspec": {
   "display_name": ".venv",
   "language": "python",
   "name": "python3"
  },
  "language_info": {
   "codemirror_mode": {
    "name": "ipython",
    "version": 3
   },
   "file_extension": ".py",
   "mimetype": "text/x-python",
   "name": "python",
   "nbconvert_exporter": "python",
   "pygments_lexer": "ipython3",
   "version": "3.12.1"
  },
  "orig_nbformat": 4,
  "vscode": {
   "interpreter": {
    "hash": "26606c0de773fc6158503fc9f78b552a6f1d87962ab0f563445360ff735daea1"
   }
  }
 },
 "nbformat": 4,
 "nbformat_minor": 2
}
