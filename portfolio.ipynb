{
 "cells": [
  {
   "cell_type": "code",
   "execution_count": 1,
   "metadata": {},
   "outputs": [],
   "source": [
    "import pandas as pd\n",
    "import numpy as np\n",
    "import matplotlib.pyplot as plt\n",
    "import datetime as dt\n",
    "import yfinance as yf\n",
    "%matplotlib widget"
   ]
  },
  {
   "cell_type": "code",
   "execution_count": 2,
   "metadata": {},
   "outputs": [
    {
     "name": "stdout",
     "output_type": "stream",
     "text": [
      "[*********************100%***********************]  16 of 16 completed\n"
     ]
    }
   ],
   "source": [
    "start = dt.datetime(2022, 5, 21)\n",
    "\n",
    "simbols = \"GDDY ABT QRTEA OPK ACRE AIV WTI JBLU AGNC WU ENLC RLJ ET DRH VLY EVRI\"\n",
    "tickers = yf.Tickers(simbols)\n",
    "stock_data = tickers.history(start=start, actions=False, rounding=True)"
   ]
  },
  {
   "cell_type": "markdown",
   "metadata": {},
   "source": [
    "### Open positions:"
   ]
  },
  {
   "cell_type": "code",
   "execution_count": 3,
   "metadata": {},
   "outputs": [
    {
     "data": {
      "text/html": [
       "<div>\n",
       "<style scoped>\n",
       "    .dataframe tbody tr th:only-of-type {\n",
       "        vertical-align: middle;\n",
       "    }\n",
       "\n",
       "    .dataframe tbody tr th {\n",
       "        vertical-align: top;\n",
       "    }\n",
       "\n",
       "    .dataframe thead th {\n",
       "        text-align: right;\n",
       "    }\n",
       "</style>\n",
       "<table border=\"1\" class=\"dataframe\">\n",
       "  <thead>\n",
       "    <tr style=\"text-align: right;\">\n",
       "      <th></th>\n",
       "      <th>GDDY / ABT</th>\n",
       "      <th>QRTEA / OPK</th>\n",
       "      <th>ACRE / AIV</th>\n",
       "      <th>WTI / JBLU</th>\n",
       "      <th>AGNC / WU</th>\n",
       "      <th>ENLC / RLJ</th>\n",
       "      <th>ET / DRH</th>\n",
       "      <th>VLY / EVRI</th>\n",
       "    </tr>\n",
       "    <tr>\n",
       "      <th>Date</th>\n",
       "      <th></th>\n",
       "      <th></th>\n",
       "      <th></th>\n",
       "      <th></th>\n",
       "      <th></th>\n",
       "      <th></th>\n",
       "      <th></th>\n",
       "      <th></th>\n",
       "    </tr>\n",
       "  </thead>\n",
       "  <tbody>\n",
       "    <tr>\n",
       "      <th>2022-11-02 00:00:00-04:00</th>\n",
       "      <td>1.158049</td>\n",
       "      <td>0.932578</td>\n",
       "      <td>1.051294</td>\n",
       "      <td>1.003554</td>\n",
       "      <td>NaN</td>\n",
       "      <td>NaN</td>\n",
       "      <td>NaN</td>\n",
       "      <td>NaN</td>\n",
       "    </tr>\n",
       "    <tr>\n",
       "      <th>2022-11-03 00:00:00-04:00</th>\n",
       "      <td>1.160842</td>\n",
       "      <td>0.978355</td>\n",
       "      <td>1.009655</td>\n",
       "      <td>1.051093</td>\n",
       "      <td>NaN</td>\n",
       "      <td>NaN</td>\n",
       "      <td>NaN</td>\n",
       "      <td>NaN</td>\n",
       "    </tr>\n",
       "    <tr>\n",
       "      <th>2022-11-04 00:00:00-04:00</th>\n",
       "      <td>1.061208</td>\n",
       "      <td>0.779221</td>\n",
       "      <td>1.034233</td>\n",
       "      <td>1.125565</td>\n",
       "      <td>NaN</td>\n",
       "      <td>NaN</td>\n",
       "      <td>NaN</td>\n",
       "      <td>NaN</td>\n",
       "    </tr>\n",
       "    <tr>\n",
       "      <th>2022-11-07 00:00:00-05:00</th>\n",
       "      <td>1.063923</td>\n",
       "      <td>0.779221</td>\n",
       "      <td>1.061590</td>\n",
       "      <td>1.149454</td>\n",
       "      <td>NaN</td>\n",
       "      <td>NaN</td>\n",
       "      <td>NaN</td>\n",
       "      <td>NaN</td>\n",
       "    </tr>\n",
       "    <tr>\n",
       "      <th>2022-11-08 00:00:00-05:00</th>\n",
       "      <td>1.080804</td>\n",
       "      <td>0.787488</td>\n",
       "      <td>1.073787</td>\n",
       "      <td>1.107558</td>\n",
       "      <td>1.015836</td>\n",
       "      <td>1.00459</td>\n",
       "      <td>NaN</td>\n",
       "      <td>NaN</td>\n",
       "    </tr>\n",
       "  </tbody>\n",
       "</table>\n",
       "</div>"
      ],
      "text/plain": [
       "                           GDDY / ABT  QRTEA / OPK  ACRE / AIV  WTI / JBLU  \\\n",
       "Date                                                                         \n",
       "2022-11-02 00:00:00-04:00    1.158049     0.932578    1.051294    1.003554   \n",
       "2022-11-03 00:00:00-04:00    1.160842     0.978355    1.009655    1.051093   \n",
       "2022-11-04 00:00:00-04:00    1.061208     0.779221    1.034233    1.125565   \n",
       "2022-11-07 00:00:00-05:00    1.063923     0.779221    1.061590    1.149454   \n",
       "2022-11-08 00:00:00-05:00    1.080804     0.787488    1.073787    1.107558   \n",
       "\n",
       "                           AGNC / WU  ENLC / RLJ  ET / DRH  VLY / EVRI  \n",
       "Date                                                                    \n",
       "2022-11-02 00:00:00-04:00        NaN         NaN       NaN         NaN  \n",
       "2022-11-03 00:00:00-04:00        NaN         NaN       NaN         NaN  \n",
       "2022-11-04 00:00:00-04:00        NaN         NaN       NaN         NaN  \n",
       "2022-11-07 00:00:00-05:00        NaN         NaN       NaN         NaN  \n",
       "2022-11-08 00:00:00-05:00   1.015836     1.00459       NaN         NaN  "
      ]
     },
     "execution_count": 3,
     "metadata": {},
     "output_type": "execute_result"
    }
   ],
   "source": [
    "GDDY_ABT = pd.DataFrame(stock_data[\"Close\"][\"GDDY\"]/stock_data[\"Close\"][\"ABT\"])\n",
    "GDDY_ABT.columns= [\"GDDY / ABT\"]\n",
    "GDDY_ABT = GDDY_ABT.loc[\"2022-7-1\":]\n",
    "####\n",
    "QRTEA_OPK = pd.DataFrame(stock_data[\"Close\"][\"QRTEA\"]/stock_data[\"Close\"][\"OPK\"])\n",
    "QRTEA_OPK.columns= [\"QRTEA / OPK\"]\n",
    "QRTEA_OPK = QRTEA_OPK.loc[\"2022-10-25\":]\n",
    "####\n",
    "ACRE_AIV = pd.DataFrame(stock_data[\"Close\"][\"ACRE\"]/stock_data[\"Close\"][\"AIV\"])\n",
    "ACRE_AIV.columns= [\"ACRE / AIV\"]\n",
    "ACRE_AIV = ACRE_AIV.loc[\"2022-10-26\":]\n",
    "####\n",
    "WTI_JBLU = pd.DataFrame(stock_data[\"Close\"][\"WTI\"]/stock_data[\"Close\"][\"JBLU\"])\n",
    "WTI_JBLU.columns= [\"WTI / JBLU\"]\n",
    "WTI_JBLU = WTI_JBLU.loc[\"2022-10-27\":]\n",
    "####\n",
    "AGNC_WU = pd.DataFrame(stock_data[\"Close\"][\"AGNC\"]/stock_data[\"Close\"][\"WU\"])\n",
    "AGNC_WU.columns = [\"AGNC / WU\"]\n",
    "AGNC_WU = AGNC_WU.loc[\"2022-11-07\":]\n",
    "####\n",
    "ENLC_RLJ = pd.DataFrame(stock_data[\"Close\"][\"ENLC\"]/stock_data[\"Close\"][\"RLJ\"])\n",
    "ENLC_RLJ.columns = [\"ENLC / RLJ\"]\n",
    "ENLC_RLJ = ENLC_RLJ.loc[\"2022-11-07\":]\n",
    "####\n",
    "ET_DRH = pd.DataFrame(stock_data[\"Close\"][\"ET\"]/stock_data[\"Close\"][\"DRH\"])\n",
    "ET_DRH.columns = [\"ET / DRH\"]\n",
    "ET_DRH = ET_DRH.loc[\"2022-11-08\":]\n",
    "####\n",
    "VLY_EVRI = pd.DataFrame(stock_data[\"Close\"][\"VLY\"]/stock_data[\"Close\"][\"EVRI\"])\n",
    "VLY_EVRI.columns = [\"VLY / EVRI\"]\n",
    "VLY_EVRI = VLY_EVRI.loc[\"2022-11-08\":]\n",
    "####\n",
    "\n",
    "Trades = pd.concat([GDDY_ABT, QRTEA_OPK, ACRE_AIV, WTI_JBLU, AGNC_WU, ENLC_RLJ, ET_DRH, VLY_EVRI], axis=1)\n",
    "pct_change_data = ((Trades.pct_change())+1).cumprod()\n",
    "pct_change_data.tail()"
   ]
  },
  {
   "cell_type": "code",
   "execution_count": null,
   "metadata": {},
   "outputs": [],
   "source": [
    "fig, ax = plt.subplots(figsize=(18,10))\n",
    "pct_change_data.plot(ax=ax);"
   ]
  },
  {
   "cell_type": "code",
   "execution_count": null,
   "metadata": {},
   "outputs": [],
   "source": []
  }
 ],
 "metadata": {
  "kernelspec": {
   "display_name": "Python 3.10.8 ('.venv': venv)",
   "language": "python",
   "name": "python3"
  },
  "language_info": {
   "codemirror_mode": {
    "name": "ipython",
    "version": 3
   },
   "file_extension": ".py",
   "mimetype": "text/x-python",
   "name": "python",
   "nbconvert_exporter": "python",
   "pygments_lexer": "ipython3",
   "version": "3.10.8"
  },
  "orig_nbformat": 4,
  "vscode": {
   "interpreter": {
    "hash": "26606c0de773fc6158503fc9f78b552a6f1d87962ab0f563445360ff735daea1"
   }
  }
 },
 "nbformat": 4,
 "nbformat_minor": 2
}
